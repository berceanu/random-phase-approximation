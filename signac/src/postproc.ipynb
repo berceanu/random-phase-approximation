{
 "cells": [
  {
   "cell_type": "code",
   "execution_count": 1,
   "metadata": {},
   "outputs": [
    {
     "data": {
      "application/javascript": [
       "IPython.notebook.set_autosave_interval(0)"
      ]
     },
     "metadata": {},
     "output_type": "display_data"
    },
    {
     "name": "stdout",
     "output_type": "stream",
     "text": [
      "Autosave disabled\n"
     ]
    }
   ],
   "source": [
    "%autosave 0"
   ]
  },
  {
   "cell_type": "code",
   "execution_count": 2,
   "metadata": {},
   "outputs": [],
   "source": [
    "# Enabling the `widget` backend.\n",
    "# This requires jupyter-matplotlib a.k.a. ipympl.\n",
    "# ipympl can be install via pip or conda.\n",
    "##conda install -c conda-forge ipympl\n",
    "# If using the Notebook\n",
    "##conda install -c conda-forge widgetsnbextension\n",
    "# https://github.com/matplotlib/jupyter-matplotlib\n",
    "%matplotlib widget"
   ]
  },
  {
   "cell_type": "code",
   "execution_count": 3,
   "metadata": {},
   "outputs": [],
   "source": [
    "import pandas as pd\n",
    "import numpy as np\n",
    "import signac as sg\n",
    "import mypackage.code_api as code_api\n",
    "import matplotlib.pyplot as plt\n",
    "from cycler import cycler\n",
    "from collections import defaultdict\n",
    "from matplotlib.gridspec import GridSpec\n",
    "import mypackage.util as util"
   ]
  },
  {
   "cell_type": "code",
   "execution_count": 4,
   "metadata": {},
   "outputs": [],
   "source": [
    "code = code_api.NameMapping()"
   ]
  },
  {
   "cell_type": "code",
   "execution_count": 5,
   "metadata": {},
   "outputs": [
    {
     "data": {
      "text/plain": [
       "signac.contrib.project.Project({'project': 'rpa', 'project_dir': '/home/berceanu/Development/random-phase-approximation/signac', 'workspace_dir': '/home/berceanu/Development/random-phase-approximation/signac/workspace'})"
      ]
     },
     "execution_count": 5,
     "metadata": {},
     "output_type": "execute_result"
    }
   ],
   "source": [
    "project = sg.get_project()\n",
    "project"
   ]
  },
  {
   "cell_type": "code",
   "execution_count": 6,
   "metadata": {},
   "outputs": [],
   "source": [
    "is_finite = lambda job: 'finite' if job.sp.temperature > 0 else 'zero'"
   ]
  },
  {
   "cell_type": "code",
   "execution_count": 7,
   "metadata": {},
   "outputs": [],
   "source": [
    "line_colors = ['C0', 'C1', 'C2', 'C3']\n",
    "line_styles = ['-', '--', ':', '-.']\n",
    "\n",
    "cyl = cycler(c=line_colors) + cycler(ls=line_styles)\n",
    "vert_cyl = cycler(colors=line_colors) + cycler(linestyles=line_styles)\n",
    "\n",
    "loop_cy_iter = cyl()\n",
    "vert_loop_cy_iter = vert_cyl()\n",
    "\n",
    "STYLE = defaultdict(lambda : next(loop_cy_iter))\n",
    "vert_STYLE = defaultdict(lambda : next(vert_loop_cy_iter))"
   ]
  },
  {
   "cell_type": "code",
   "execution_count": 8,
   "metadata": {},
   "outputs": [],
   "source": [
    "def out_file_plot(job, temp, skalvec, lorexc, ax=None, code_mapping=code_api.NameMapping()):\n",
    "    fn = job.fn(code_mapping.out_file(temp, skalvec, lorexc))\n",
    "\n",
    "    df = pd.read_csv(fn, delim_whitespace=True, comment='#', skip_blank_lines=True,\n",
    "                header=None, names=['energy', 'transition_strength'])\n",
    "\n",
    "    df = df[df.energy < 30] # MeV\n",
    "\n",
    "    if ax:\n",
    "        if lorexc == 'excitation':\n",
    "            ax.vlines(df.energy, 0., df.transition_strength, label='_nolegend_',\n",
    "                          **vert_STYLE[str(job.sp.temperature)])\n",
    "        elif lorexc == 'lorentzian':\n",
    "            ax.plot(df.energy, df.transition_strength, label=f\"T = {job.sp.temperature} MeV\",\n",
    "                        **STYLE[str(job.sp.temperature)])\n",
    "        else:\n",
    "            raise ValueError\n",
    "        \n",
    "    return df"
   ]
  },
  {
   "cell_type": "code",
   "execution_count": 9,
   "metadata": {
    "scrolled": false
   },
   "outputs": [
    {
     "data": {
      "application/vnd.jupyter.widget-view+json": {
       "model_id": "da16e58aead64959affd293457a7bcd0",
       "version_major": 2,
       "version_minor": 0
      },
      "text/plain": [
       "FigureCanvasNbAgg()"
      ]
     },
     "metadata": {},
     "output_type": "display_data"
    },
    {
     "data": {
      "text/plain": [
       "Text(0.5,0.98,'Transition strength distribution of ${}^{132} Sn \\\\; 1^{-}$')"
      ]
     },
     "execution_count": 9,
     "metadata": {},
     "output_type": "execute_result"
    }
   ],
   "source": [
    "# everything but the temperature\n",
    "filter = dict(proton_number=50, neutron_number=82,\n",
    "                 angular_momentum=1, parity=\"-\", transition_energy=0.42)\n",
    "\n",
    "selection = project.find_jobs(filter)\n",
    "\n",
    "assert len(selection)\n",
    "\n",
    "fig = plt.figure(figsize=(10, 6))\n",
    "\n",
    "gs = GridSpec(2, 1)\n",
    "ax = {'isoscalar': fig.add_subplot(gs[0,0]),\n",
    "      'isovector': fig.add_subplot(gs[1,0])}\n",
    "\n",
    "for job in sorted(selection, key=lambda job: job.sp.temperature):    \n",
    "    for skalvec in 'isoscalar', 'isovector':\n",
    "        for sp in (\"top\", \"bottom\", \"right\"):\n",
    "            ax[skalvec].spines[sp].set_visible(False)\n",
    "        ax[skalvec].set(ylabel=r\"$R \\; (e^2fm^2/MeV)$\")\n",
    "        ax[skalvec].set_title(skalvec)\n",
    "        for lorexc in 'excitation', 'lorentzian':\n",
    "            df = out_file_plot(job=job, ax=ax[skalvec], temp=is_finite(job), skalvec=skalvec, lorexc=lorexc, code_mapping=code)\n",
    "        \n",
    "ax['isoscalar'].legend()\n",
    "ax['isovector'].set(xlabel=\"E (MeV)\")\n",
    "fig.subplots_adjust(hspace=0.3)\n",
    "\n",
    "element, mass = util.split_element_mass(job)\n",
    "fig.suptitle(fr\"Transition strength distribution of ${{}}^{{{mass}}} {element} \\; {job.sp.angular_momentum}^{{{job.sp.parity}}}$\")"
   ]
  },
  {
   "cell_type": "code",
   "execution_count": 10,
   "metadata": {
    "scrolled": false
   },
   "outputs": [
    {
     "data": {
      "application/vnd.jupyter.widget-view+json": {
       "model_id": "392287e9539049858ac017fb38de250f",
       "version_major": 2,
       "version_minor": 0
      },
      "text/plain": [
       "FigureCanvasNbAgg()"
      ]
     },
     "metadata": {},
     "output_type": "display_data"
    },
    {
     "data": {
      "application/vnd.jupyter.widget-view+json": {
       "model_id": "eba117f862c74c659577b74ca29332bd",
       "version_major": 2,
       "version_minor": 0
      },
      "text/plain": [
       "FigureCanvasNbAgg()"
      ]
     },
     "metadata": {},
     "output_type": "display_data"
    },
    {
     "data": {
      "application/vnd.jupyter.widget-view+json": {
       "model_id": "3a9d6e2f01ae44019de5f5b15bd378b9",
       "version_major": 2,
       "version_minor": 0
      },
      "text/plain": [
       "FigureCanvasNbAgg()"
      ]
     },
     "metadata": {},
     "output_type": "display_data"
    },
    {
     "data": {
      "application/vnd.jupyter.widget-view+json": {
       "model_id": "dc79da2cfa1c45bf84ed1f3a0de5ef56",
       "version_major": 2,
       "version_minor": 0
      },
      "text/plain": [
       "FigureCanvasNbAgg()"
      ]
     },
     "metadata": {},
     "output_type": "display_data"
    },
    {
     "data": {
      "application/vnd.jupyter.widget-view+json": {
       "model_id": "0c1179ffe0d54fb3a30cba22364ad8b1",
       "version_major": 2,
       "version_minor": 0
      },
      "text/plain": [
       "FigureCanvasNbAgg()"
      ]
     },
     "metadata": {},
     "output_type": "display_data"
    },
    {
     "data": {
      "application/vnd.jupyter.widget-view+json": {
       "model_id": "e89c3794790d41328f3c6cdef47f92e7",
       "version_major": 2,
       "version_minor": 0
      },
      "text/plain": [
       "FigureCanvasNbAgg()"
      ]
     },
     "metadata": {},
     "output_type": "display_data"
    },
    {
     "data": {
      "application/vnd.jupyter.widget-view+json": {
       "model_id": "f7ec3852392f462fb710897521e18953",
       "version_major": 2,
       "version_minor": 0
      },
      "text/plain": [
       "FigureCanvasNbAgg()"
      ]
     },
     "metadata": {},
     "output_type": "display_data"
    },
    {
     "data": {
      "application/vnd.jupyter.widget-view+json": {
       "model_id": "2d9a9aa2c0da468781e702170aa6fde6",
       "version_major": 2,
       "version_minor": 0
      },
      "text/plain": [
       "FigureCanvasNbAgg()"
      ]
     },
     "metadata": {},
     "output_type": "display_data"
    },
    {
     "data": {
      "application/vnd.jupyter.widget-view+json": {
       "model_id": "012837cae5754194a9b164a0eb7eabf3",
       "version_major": 2,
       "version_minor": 0
      },
      "text/plain": [
       "FigureCanvasNbAgg()"
      ]
     },
     "metadata": {},
     "output_type": "display_data"
    },
    {
     "data": {
      "application/vnd.jupyter.widget-view+json": {
       "model_id": "f59c4b36c9324f10a6d2aeaf3dbf9734",
       "version_major": 2,
       "version_minor": 0
      },
      "text/plain": [
       "FigureCanvasNbAgg()"
      ]
     },
     "metadata": {},
     "output_type": "display_data"
    },
    {
     "data": {
      "application/vnd.jupyter.widget-view+json": {
       "model_id": "a546ad3c2e144493b96d8425192e01d6",
       "version_major": 2,
       "version_minor": 0
      },
      "text/plain": [
       "FigureCanvasNbAgg()"
      ]
     },
     "metadata": {},
     "output_type": "display_data"
    },
    {
     "data": {
      "application/vnd.jupyter.widget-view+json": {
       "model_id": "d20a63df449d42cbabf0b1f15876bde1",
       "version_major": 2,
       "version_minor": 0
      },
      "text/plain": [
       "FigureCanvasNbAgg()"
      ]
     },
     "metadata": {},
     "output_type": "display_data"
    },
    {
     "data": {
      "application/vnd.jupyter.widget-view+json": {
       "model_id": "f0a0452d2a2a4f93833406757d1ceab2",
       "version_major": 2,
       "version_minor": 0
      },
      "text/plain": [
       "FigureCanvasNbAgg()"
      ]
     },
     "metadata": {},
     "output_type": "display_data"
    },
    {
     "data": {
      "application/vnd.jupyter.widget-view+json": {
       "model_id": "74d05e23af0a45edad18df158f6fc4bc",
       "version_major": 2,
       "version_minor": 0
      },
      "text/plain": [
       "FigureCanvasNbAgg()"
      ]
     },
     "metadata": {},
     "output_type": "display_data"
    }
   ],
   "source": [
    "for key, group in project.groupby(('proton_number', 'neutron_number')):\n",
    "    fig = plt.figure(figsize=(10, 6))\n",
    "\n",
    "    gs = GridSpec(2, 1)\n",
    "    ax = {'isoscalar': fig.add_subplot(gs[0,0]),\n",
    "          'isovector': fig.add_subplot(gs[1,0])}\n",
    "    for job in sorted(group, key=lambda job: job.sp.temperature):\n",
    "        for skalvec in 'isoscalar', 'isovector':\n",
    "            for sp in (\"top\", \"bottom\", \"right\"):\n",
    "                ax[skalvec].spines[sp].set_visible(False)\n",
    "            ax[skalvec].set(ylabel=r\"$R \\; (e^2fm^2/MeV)$\")\n",
    "            ax[skalvec].set_title(skalvec)\n",
    "            for lorexc in 'excitation', 'lorentzian':\n",
    "                df = out_file_plot(job=job, ax=ax[skalvec], temp=is_finite(job), skalvec=skalvec, lorexc=lorexc, code_mapping=code)\n",
    "\n",
    "    ax['isoscalar'].legend()\n",
    "    ax['isovector'].set(xlabel=\"E (MeV)\")\n",
    "    fig.subplots_adjust(hspace=0.3)\n",
    "\n",
    "    element, mass = util.split_element_mass(job)\n",
    "    fig.suptitle(fr\"Transition strength distribution of ${{}}^{{{mass}}} {element} \\; {job.sp.angular_momentum}^{{{job.sp.parity}}}$\")"
   ]
  },
  {
   "cell_type": "code",
   "execution_count": null,
   "metadata": {
    "lines_to_next_cell": 2
   },
   "outputs": [],
   "source": []
  },
  {
   "cell_type": "code",
   "execution_count": null,
   "metadata": {
    "lines_to_next_cell": 2
   },
   "outputs": [],
   "source": []
  },
  {
   "cell_type": "code",
   "execution_count": 11,
   "metadata": {},
   "outputs": [],
   "source": [
    "filter.update(temperature=2.0)\n",
    "one_job = project.find_jobs(filter)\n",
    "assert len(one_job) == 1\n",
    "job = next(iter(one_job))\n",
    "\n",
    "df = out_file_plot(job=job, temp=is_finite(job), skalvec='isovector', lorexc='excitation', code_mapping=code)"
   ]
  },
  {
   "cell_type": "code",
   "execution_count": 12,
   "metadata": {},
   "outputs": [
    {
     "data": {
      "text/html": [
       "<div>\n",
       "<style scoped>\n",
       "    .dataframe tbody tr th:only-of-type {\n",
       "        vertical-align: middle;\n",
       "    }\n",
       "\n",
       "    .dataframe tbody tr th {\n",
       "        vertical-align: top;\n",
       "    }\n",
       "\n",
       "    .dataframe thead th {\n",
       "        text-align: right;\n",
       "    }\n",
       "</style>\n",
       "<table border=\"1\" class=\"dataframe\">\n",
       "  <thead>\n",
       "    <tr style=\"text-align: right;\">\n",
       "      <th></th>\n",
       "      <th>energy</th>\n",
       "      <th>transition_strength</th>\n",
       "    </tr>\n",
       "  </thead>\n",
       "  <tbody>\n",
       "    <tr>\n",
       "      <th>32</th>\n",
       "      <td>3.10</td>\n",
       "      <td>0.13</td>\n",
       "    </tr>\n",
       "    <tr>\n",
       "      <th>33</th>\n",
       "      <td>3.15</td>\n",
       "      <td>0.10</td>\n",
       "    </tr>\n",
       "    <tr>\n",
       "      <th>36</th>\n",
       "      <td>3.51</td>\n",
       "      <td>0.14</td>\n",
       "    </tr>\n",
       "    <tr>\n",
       "      <th>41</th>\n",
       "      <td>3.75</td>\n",
       "      <td>0.30</td>\n",
       "    </tr>\n",
       "    <tr>\n",
       "      <th>57</th>\n",
       "      <td>4.54</td>\n",
       "      <td>0.22</td>\n",
       "    </tr>\n",
       "    <tr>\n",
       "      <th>65</th>\n",
       "      <td>4.92</td>\n",
       "      <td>0.22</td>\n",
       "    </tr>\n",
       "    <tr>\n",
       "      <th>78</th>\n",
       "      <td>6.12</td>\n",
       "      <td>0.55</td>\n",
       "    </tr>\n",
       "    <tr>\n",
       "      <th>89</th>\n",
       "      <td>7.77</td>\n",
       "      <td>0.95</td>\n",
       "    </tr>\n",
       "  </tbody>\n",
       "</table>\n",
       "</div>"
      ],
      "text/plain": [
       "   energy transition_strength\n",
       "32   3.10                0.13\n",
       "33   3.15                0.10\n",
       "36   3.51                0.14\n",
       "41   3.75                0.30\n",
       "57   4.54                0.22\n",
       "65   4.92                0.22\n",
       "78   6.12                0.55\n",
       "89   7.77                0.95"
      ]
     },
     "execution_count": 12,
     "metadata": {},
     "output_type": "execute_result"
    }
   ],
   "source": [
    "df.applymap('{:,.2f}'.format)[(df.energy > 3.) & (df.energy < 8.) & (df.transition_strength > .1)]"
   ]
  },
  {
   "cell_type": "code",
   "execution_count": 13,
   "metadata": {},
   "outputs": [
    {
     "data": {
      "text/html": [
       "<div>\n",
       "<style scoped>\n",
       "    .dataframe tbody tr th:only-of-type {\n",
       "        vertical-align: middle;\n",
       "    }\n",
       "\n",
       "    .dataframe tbody tr th {\n",
       "        vertical-align: top;\n",
       "    }\n",
       "\n",
       "    .dataframe thead th {\n",
       "        text-align: right;\n",
       "    }\n",
       "</style>\n",
       "<table border=\"1\" class=\"dataframe\">\n",
       "  <thead>\n",
       "    <tr style=\"text-align: right;\">\n",
       "      <th></th>\n",
       "      <th>energy</th>\n",
       "      <th>transition_strength</th>\n",
       "    </tr>\n",
       "  </thead>\n",
       "  <tbody>\n",
       "    <tr>\n",
       "      <th>89</th>\n",
       "      <td>7.774911</td>\n",
       "      <td>0.950625</td>\n",
       "    </tr>\n",
       "  </tbody>\n",
       "</table>\n",
       "</div>"
      ],
      "text/plain": [
       "      energy  transition_strength\n",
       "89  7.774911             0.950625"
      ]
     },
     "execution_count": 13,
     "metadata": {},
     "output_type": "execute_result"
    }
   ],
   "source": [
    "df[np.isclose(df.energy, 7.77, atol=0.01)]"
   ]
  },
  {
   "cell_type": "code",
   "execution_count": 14,
   "metadata": {
    "lines_to_next_cell": 2
   },
   "outputs": [],
   "source": [
    "# T = 0 Mev, E = 7.75 MeV"
   ]
  },
  {
   "cell_type": "code",
   "execution_count": 15,
   "metadata": {},
   "outputs": [],
   "source": [
    "filter.update(temperature=0.0)\n",
    "one_job = project.find_jobs(filter)\n",
    "assert len(one_job) == 1\n",
    "job = next(iter(one_job))\n",
    "\n",
    "df = out_file_plot(job=job, temp=is_finite(job), skalvec='isovector', lorexc='excitation', code_mapping=code)"
   ]
  },
  {
   "cell_type": "code",
   "execution_count": 16,
   "metadata": {},
   "outputs": [
    {
     "data": {
      "text/html": [
       "<div>\n",
       "<style scoped>\n",
       "    .dataframe tbody tr th:only-of-type {\n",
       "        vertical-align: middle;\n",
       "    }\n",
       "\n",
       "    .dataframe tbody tr th {\n",
       "        vertical-align: top;\n",
       "    }\n",
       "\n",
       "    .dataframe thead th {\n",
       "        text-align: right;\n",
       "    }\n",
       "</style>\n",
       "<table border=\"1\" class=\"dataframe\">\n",
       "  <thead>\n",
       "    <tr style=\"text-align: right;\">\n",
       "      <th></th>\n",
       "      <th>energy</th>\n",
       "      <th>transition_strength</th>\n",
       "    </tr>\n",
       "  </thead>\n",
       "  <tbody>\n",
       "    <tr>\n",
       "      <th>0</th>\n",
       "      <td>7.75</td>\n",
       "      <td>1.18</td>\n",
       "    </tr>\n",
       "  </tbody>\n",
       "</table>\n",
       "</div>"
      ],
      "text/plain": [
       "  energy transition_strength\n",
       "0   7.75                1.18"
      ]
     },
     "execution_count": 16,
     "metadata": {},
     "output_type": "execute_result"
    }
   ],
   "source": [
    "df[np.isclose(df.energy, 7.75, atol=0.01)].applymap('{:,.2f}'.format)"
   ]
  },
  {
   "cell_type": "code",
   "execution_count": null,
   "metadata": {
    "lines_to_next_cell": 2
   },
   "outputs": [],
   "source": []
  }
 ],
 "metadata": {
  "file_extension": ".py",
  "jupytext": {
   "text_representation": {
    "extension": ".py",
    "format_name": "percent",
    "format_version": "1.2",
    "jupytext_version": "0.8.6"
   }
  },
  "kernelspec": {
   "display_name": "Python 3",
   "language": "python",
   "name": "python3"
  },
  "language_info": {
   "codemirror_mode": {
    "name": "ipython",
    "version": 3
   },
   "file_extension": ".py",
   "mimetype": "text/x-python",
   "name": "python",
   "nbconvert_exporter": "python",
   "pygments_lexer": "ipython3",
   "version": "3.6.5"
  },
  "mimetype": "text/x-python",
  "name": "python",
  "npconvert_exporter": "python",
  "pygments_lexer": "ipython3",
  "version": 3
 },
 "nbformat": 4,
 "nbformat_minor": 2
}
