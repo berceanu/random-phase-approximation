{
 "cells": [
  {
   "cell_type": "code",
   "execution_count": null,
   "metadata": {},
   "outputs": [],
   "source": [
    "%autosave 0"
   ]
  },
  {
   "cell_type": "code",
   "execution_count": null,
   "metadata": {},
   "outputs": [],
   "source": [
    "# Enabling the `widget` backend.\n",
    "# This requires jupyter-matplotlib a.k.a. ipympl.\n",
    "# ipympl can be install via pip or conda.\n",
    "##conda install -c conda-forge ipympl\n",
    "# If using the Notebook\n",
    "##conda install -c conda-forge widgetsnbextension\n",
    "# https://github.com/matplotlib/jupyter-matplotlib\n",
    "%matplotlib widget"
   ]
  },
  {
   "cell_type": "code",
   "execution_count": null,
   "metadata": {},
   "outputs": [],
   "source": [
    "import pandas as pd\n",
    "import numpy as np\n",
    "import signac as sg\n",
    "import mypackage.code_api as code_api\n",
    "import matplotlib.pyplot as plt\n",
    "from matplotlib.gridspec import GridSpec\n",
    "import mypackage.util as util"
   ]
  },
  {
   "cell_type": "code",
   "execution_count": null,
   "metadata": {},
   "outputs": [],
   "source": [
    "code = code_api.NameMapping()"
   ]
  },
  {
   "cell_type": "code",
   "execution_count": null,
   "metadata": {},
   "outputs": [],
   "source": [
    "project = sg.get_project()\n",
    "project"
   ]
  },
  {
   "cell_type": "code",
   "execution_count": null,
   "metadata": {},
   "outputs": [],
   "source": [
    "is_finite = lambda job: 'finite' if job.sp.temperature > 0 else 'zero'"
   ]
  },
  {
   "cell_type": "code",
   "execution_count": null,
   "metadata": {},
   "outputs": [],
   "source": [
    "def out_file_plot(job, temp, skalvec, lorexc, ax=None, code_mapping=code_api.NameMapping()):\n",
    "    STYLE = {'0.0': dict(color='dodgerblue', linestyle='solid'),\n",
    "             '1.0': dict(color='lawngreen', linestyle='dashed'),\n",
    "             '2.0': dict(color='firebrick', linestyle='dashdot')}\n",
    "\n",
    "    fn = job.fn(code_mapping.out_file(temp, skalvec, lorexc))\n",
    "\n",
    "    df = pd.read_csv(fn, delim_whitespace=True, comment='#', skip_blank_lines=True,\n",
    "                header=None, names=['energy', 'transition_strength'])\n",
    "\n",
    "    df = df[df.energy < 30] # MeV\n",
    "\n",
    "    if ax:\n",
    "        if lorexc == 'excitation':\n",
    "            ax.vlines(df.energy, 0., df.transition_strength, label='_nolegend_',\n",
    "                      colors=STYLE[str(job.sp.temperature)]['color'],\n",
    "                     linestyles=STYLE[str(job.sp.temperature)]['linestyle'])\n",
    "        elif lorexc == 'lorentzian':\n",
    "            ax.plot(df.energy, df.transition_strength, label=f\"T = {job.sp.temperature} MeV\",\n",
    "                    color=STYLE[str(job.sp.temperature)]['color'],\n",
    "                   linestyle=STYLE[str(job.sp.temperature)]['linestyle'])\n",
    "        else:\n",
    "            raise ValueError\n",
    "        \n",
    "    return df"
   ]
  },
  {
   "cell_type": "code",
   "execution_count": null,
   "metadata": {
    "scrolled": false
   },
   "outputs": [],
   "source": [
    "# everything but the temperature\n",
    "filter = dict(proton_number=50, neutron_number=82,\n",
    "                 angular_momentum=1, parity=\"-\", transition_energy=0.42)\n",
    "\n",
    "selection = project.find_jobs(filter)\n",
    "\n",
    "assert len(selection)\n",
    "\n",
    "fig = plt.figure(figsize=(10, 6))\n",
    "\n",
    "gs = GridSpec(2, 1)\n",
    "ax = {'isoscalar': fig.add_subplot(gs[0,0]),\n",
    "      'isovector': fig.add_subplot(gs[1,0])}\n",
    "\n",
    "for job in selection:    \n",
    "    for skalvec in 'isoscalar', 'isovector':\n",
    "        for sp in (\"top\", \"bottom\", \"right\"):\n",
    "            ax[skalvec].spines[sp].set_visible(False)\n",
    "        ax[skalvec].set(ylabel=r\"$R \\; (e^2fm^2/MeV)$\")\n",
    "        ax[skalvec].set_title(skalvec)\n",
    "        for lorexc in 'excitation', 'lorentzian':\n",
    "            df = out_file_plot(job=job, ax=ax[skalvec], temp=is_finite(job), skalvec=skalvec, lorexc=lorexc, code_mapping=code)\n",
    "        \n",
    "ax['isoscalar'].legend()\n",
    "ax['isovector'].set(xlabel=\"E (MeV)\")\n",
    "fig.subplots_adjust(hspace=0.3)\n",
    "\n",
    "element, mass = util.split_element_mass(job)\n",
    "fig.suptitle(fr\"Transition strength distribution of ${{}}^{{{mass}}} {element} \\; {job.sp.angular_momentum}^{{{job.sp.parity}}}$\")"
   ]
  },
  {
   "cell_type": "code",
   "execution_count": null,
   "metadata": {
    "scrolled": false
   },
   "outputs": [],
   "source": [
    "for key, group in project.groupby(('proton_number', 'neutron_number')):\n",
    "    fig = plt.figure(figsize=(10, 6))\n",
    "\n",
    "    gs = GridSpec(2, 1)\n",
    "    ax = {'isoscalar': fig.add_subplot(gs[0,0]),\n",
    "          'isovector': fig.add_subplot(gs[1,0])}\n",
    "    for job in group:\n",
    "        for skalvec in 'isoscalar', 'isovector':\n",
    "            for sp in (\"top\", \"bottom\", \"right\"):\n",
    "                ax[skalvec].spines[sp].set_visible(False)\n",
    "            ax[skalvec].set(ylabel=r\"$R \\; (e^2fm^2/MeV)$\")\n",
    "            ax[skalvec].set_title(skalvec)\n",
    "            for lorexc in 'excitation', 'lorentzian':\n",
    "                df = out_file_plot(job=job, ax=ax[skalvec], temp=is_finite(job), skalvec=skalvec, lorexc=lorexc, code_mapping=code)\n",
    "\n",
    "    ax['isoscalar'].legend()\n",
    "    ax['isovector'].set(xlabel=\"E (MeV)\")\n",
    "    fig.subplots_adjust(hspace=0.3)\n",
    "\n",
    "    element, mass = util.split_element_mass(job)\n",
    "    fig.suptitle(fr\"Transition strength distribution of ${{}}^{{{mass}}} {element} \\; {job.sp.angular_momentum}^{{{job.sp.parity}}}$\")"
   ]
  },
  {
   "cell_type": "code",
   "execution_count": null,
   "metadata": {},
   "outputs": [],
   "source": []
  },
  {
   "cell_type": "code",
   "execution_count": null,
   "metadata": {},
   "outputs": [],
   "source": []
  },
  {
   "cell_type": "code",
   "execution_count": null,
   "metadata": {},
   "outputs": [],
   "source": [
    "filter.update(temperature=2.0)\n",
    "one_job = project.find_jobs(filter)\n",
    "assert len(one_job) == 1\n",
    "job = next(iter(one_job))\n",
    "\n",
    "df = out_file_plot(job=job, temp=is_finite(job), skalvec='isovector', lorexc='excitation', code_mapping=code)"
   ]
  },
  {
   "cell_type": "code",
   "execution_count": null,
   "metadata": {},
   "outputs": [],
   "source": [
    "df.applymap('{:,.2f}'.format)[(df.energy > 3.) & (df.energy < 8.) & (df.transition_strength > .1)]"
   ]
  },
  {
   "cell_type": "code",
   "execution_count": null,
   "metadata": {},
   "outputs": [],
   "source": [
    "df[np.isclose(df.energy, 7.77, atol=0.01)]"
   ]
  },
  {
   "cell_type": "code",
   "execution_count": null,
   "metadata": {
    "lines_to_next_cell": 2
   },
   "outputs": [],
   "source": [
    "# T = 0 Mev, E = 7.75 MeV"
   ]
  },
  {
   "cell_type": "code",
   "execution_count": null,
   "metadata": {},
   "outputs": [],
   "source": [
    "filter.update(temperature=0.0)\n",
    "one_job = project.find_jobs(filter)\n",
    "assert len(one_job) == 1\n",
    "job = next(iter(one_job))\n",
    "\n",
    "df = out_file_plot(job=job, temp=is_finite(job), skalvec='isovector', lorexc='excitation', code_mapping=code)"
   ]
  },
  {
   "cell_type": "code",
   "execution_count": null,
   "metadata": {},
   "outputs": [],
   "source": [
    "df[np.isclose(df.energy, 7.75, atol=0.01)].applymap('{:,.2f}'.format)"
   ]
  },
  {
   "cell_type": "code",
   "execution_count": null,
   "metadata": {},
   "outputs": [],
   "source": []
  }
 ],
 "metadata": {
  "file_extension": ".py",
  "jupytext": {
   "text_representation": {
    "extension": ".py",
    "format_name": "percent",
    "format_version": "1.2",
    "jupytext_version": "0.8.6"
   }
  },
  "kernelspec": {
   "display_name": "Python 3",
   "language": "python",
   "name": "python3"
  },
  "language_info": {
   "codemirror_mode": {
    "name": "ipython",
    "version": 3
   },
   "file_extension": ".py",
   "mimetype": "text/x-python",
   "name": "python",
   "nbconvert_exporter": "python",
   "pygments_lexer": "ipython3",
   "version": "3.6.5"
  },
  "mimetype": "text/x-python",
  "name": "python",
  "npconvert_exporter": "python",
  "pygments_lexer": "ipython3",
  "version": 3
 },
 "nbformat": 4,
 "nbformat_minor": 2
}
