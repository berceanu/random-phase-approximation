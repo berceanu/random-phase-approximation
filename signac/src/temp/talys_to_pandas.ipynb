{
 "cells": [
  {
   "cell_type": "code",
   "execution_count": 1,
   "metadata": {},
   "outputs": [
    {
     "data": {
      "application/javascript": [
       "IPython.notebook.set_autosave_interval(0)"
      ]
     },
     "metadata": {},
     "output_type": "display_data"
    },
    {
     "name": "stdout",
     "output_type": "stream",
     "text": [
      "Autosave disabled\n"
     ]
    }
   ],
   "source": [
    "%autosave 0"
   ]
  },
  {
   "cell_type": "code",
   "execution_count": 2,
   "metadata": {},
   "outputs": [],
   "source": [
    "import pandas as pd\n",
    "import numpy as np\n",
    "import re\n",
    "import pprint\n",
    "from collections import OrderedDict"
   ]
  },
  {
   "cell_type": "code",
   "execution_count": 3,
   "metadata": {},
   "outputs": [
    {
     "name": "stdout",
     "output_type": "stream",
     "text": [
      "#RPA-results:\r\n",
      "#Nucleus: SN 146\r\n",
      "#Excitation: 1 -\r\n",
      "#Total number of pairs: 2188\r\n",
      "#Number of ph-/ah-pairs: 1554/634\r\n",
      "#Maximal excitation-energy for particle-hole-pairs: 200\r\n",
      "#Maximal excitation-energy for antiparticle-hole-pairs: 2000\r\n",
      "#2 imaginary eigenvalues\r\n",
      "#Listing imaginary eigenvalues:\r\n",
      "#Imaginary part: 4.383495e-01\r\n"
     ]
    }
   ],
   "source": [
    "! head ftes_lorvec.out"
   ]
  },
  {
   "cell_type": "code",
   "execution_count": 4,
   "metadata": {},
   "outputs": [
    {
     "data": {
      "text/plain": [
       "96"
      ]
     },
     "execution_count": 4,
     "metadata": {},
     "output_type": "execute_result"
    }
   ],
   "source": [
    "146 - 50 # N"
   ]
  },
  {
   "cell_type": "code",
   "execution_count": 5,
   "metadata": {},
   "outputs": [],
   "source": [
    "# 'energy', 'transition_strength'\n",
    "df_lorvec = pd.read_csv('ftes_lorvec.out', delim_whitespace=True, comment='#', skip_blank_lines=True,\n",
    "            header=None, names=['U', 'fE1'])"
   ]
  },
  {
   "cell_type": "code",
   "execution_count": 6,
   "metadata": {},
   "outputs": [],
   "source": [
    "df_lorvec = df_lorvec[(df_lorvec.U >= 0.1) & (df_lorvec.U <= 30)] # MeV"
   ]
  },
  {
   "cell_type": "code",
   "execution_count": 7,
   "metadata": {},
   "outputs": [
    {
     "data": {
      "text/html": [
       "<div>\n",
       "<style scoped>\n",
       "    .dataframe tbody tr th:only-of-type {\n",
       "        vertical-align: middle;\n",
       "    }\n",
       "\n",
       "    .dataframe tbody tr th {\n",
       "        vertical-align: top;\n",
       "    }\n",
       "\n",
       "    .dataframe thead th {\n",
       "        text-align: right;\n",
       "    }\n",
       "</style>\n",
       "<table border=\"1\" class=\"dataframe\">\n",
       "  <thead>\n",
       "    <tr style=\"text-align: right;\">\n",
       "      <th></th>\n",
       "      <th>U</th>\n",
       "      <th>fE1</th>\n",
       "    </tr>\n",
       "  </thead>\n",
       "  <tbody>\n",
       "    <tr>\n",
       "      <th>10</th>\n",
       "      <td>0.10</td>\n",
       "      <td>0.135900</td>\n",
       "    </tr>\n",
       "    <tr>\n",
       "      <th>11</th>\n",
       "      <td>0.11</td>\n",
       "      <td>0.136607</td>\n",
       "    </tr>\n",
       "    <tr>\n",
       "      <th>12</th>\n",
       "      <td>0.12</td>\n",
       "      <td>0.137321</td>\n",
       "    </tr>\n",
       "    <tr>\n",
       "      <th>13</th>\n",
       "      <td>0.13</td>\n",
       "      <td>0.138042</td>\n",
       "    </tr>\n",
       "    <tr>\n",
       "      <th>14</th>\n",
       "      <td>0.14</td>\n",
       "      <td>0.138770</td>\n",
       "    </tr>\n",
       "  </tbody>\n",
       "</table>\n",
       "</div>"
      ],
      "text/plain": [
       "       U       fE1\n",
       "10  0.10  0.135900\n",
       "11  0.11  0.136607\n",
       "12  0.12  0.137321\n",
       "13  0.13  0.138042\n",
       "14  0.14  0.138770"
      ]
     },
     "execution_count": 7,
     "metadata": {},
     "output_type": "execute_result"
    }
   ],
   "source": [
    "df_lorvec.head()"
   ]
  },
  {
   "cell_type": "code",
   "execution_count": 8,
   "metadata": {},
   "outputs": [],
   "source": [
    "every_10 = df_lorvec.iloc[::10, :]\n",
    "every_10.reset_index(drop=True, inplace=True)\n",
    "every_10_T = every_10.T"
   ]
  },
  {
   "cell_type": "code",
   "execution_count": 9,
   "metadata": {},
   "outputs": [],
   "source": [
    "df = every_10_T\n",
    "df2 = pd.concat([df], keys=[146], names=['A'])\n",
    "df3 = pd.concat([df2], keys=[50], names=['Z'])\n",
    "lorvec_df = df3"
   ]
  },
  {
   "cell_type": "code",
   "execution_count": null,
   "metadata": {},
   "outputs": [],
   "source": [
    "\n"
   ]
  },
  {
   "cell_type": "code",
   "execution_count": null,
   "metadata": {},
   "outputs": [],
   "source": [
    "\n"
   ]
  },
  {
   "cell_type": "code",
   "execution_count": 10,
   "metadata": {},
   "outputs": [],
   "source": [
    "stocks = pd.read_csv('http://bit.ly/smallstocks')"
   ]
  },
  {
   "cell_type": "code",
   "execution_count": 11,
   "metadata": {},
   "outputs": [
    {
     "data": {
      "text/plain": [
       "Symbol\n",
       "AAPL    112.856667\n",
       "CSCO     31.480000\n",
       "MSFT     57.433333\n",
       "Name: Close, dtype: float64"
      ]
     },
     "execution_count": 11,
     "metadata": {},
     "output_type": "execute_result"
    }
   ],
   "source": [
    "stocks.groupby('Symbol').Close.mean()"
   ]
  },
  {
   "cell_type": "code",
   "execution_count": 12,
   "metadata": {},
   "outputs": [],
   "source": [
    "ser = stocks.groupby(['Symbol', 'Date']).Close.mean()"
   ]
  },
  {
   "cell_type": "code",
   "execution_count": 13,
   "metadata": {},
   "outputs": [
    {
     "data": {
      "text/plain": [
       "MultiIndex(levels=[['AAPL', 'CSCO', 'MSFT'], ['2016-10-03', '2016-10-04', '2016-10-05']],\n",
       "           labels=[[0, 0, 0, 1, 1, 1, 2, 2, 2], [0, 1, 2, 0, 1, 2, 0, 1, 2]],\n",
       "           names=['Symbol', 'Date'])"
      ]
     },
     "execution_count": 13,
     "metadata": {},
     "output_type": "execute_result"
    }
   ],
   "source": [
    "ser.index"
   ]
  },
  {
   "cell_type": "code",
   "execution_count": 14,
   "metadata": {},
   "outputs": [
    {
     "data": {
      "text/html": [
       "<div>\n",
       "<style scoped>\n",
       "    .dataframe tbody tr th:only-of-type {\n",
       "        vertical-align: middle;\n",
       "    }\n",
       "\n",
       "    .dataframe tbody tr th {\n",
       "        vertical-align: top;\n",
       "    }\n",
       "\n",
       "    .dataframe thead th {\n",
       "        text-align: right;\n",
       "    }\n",
       "</style>\n",
       "<table border=\"1\" class=\"dataframe\">\n",
       "  <thead>\n",
       "    <tr style=\"text-align: right;\">\n",
       "      <th>Date</th>\n",
       "      <th>2016-10-03</th>\n",
       "      <th>2016-10-04</th>\n",
       "      <th>2016-10-05</th>\n",
       "    </tr>\n",
       "    <tr>\n",
       "      <th>Symbol</th>\n",
       "      <th></th>\n",
       "      <th></th>\n",
       "      <th></th>\n",
       "    </tr>\n",
       "  </thead>\n",
       "  <tbody>\n",
       "    <tr>\n",
       "      <th>AAPL</th>\n",
       "      <td>112.52</td>\n",
       "      <td>113.00</td>\n",
       "      <td>113.05</td>\n",
       "    </tr>\n",
       "    <tr>\n",
       "      <th>CSCO</th>\n",
       "      <td>31.50</td>\n",
       "      <td>31.35</td>\n",
       "      <td>31.59</td>\n",
       "    </tr>\n",
       "    <tr>\n",
       "      <th>MSFT</th>\n",
       "      <td>57.42</td>\n",
       "      <td>57.24</td>\n",
       "      <td>57.64</td>\n",
       "    </tr>\n",
       "  </tbody>\n",
       "</table>\n",
       "</div>"
      ],
      "text/plain": [
       "Date    2016-10-03  2016-10-04  2016-10-05\n",
       "Symbol                                    \n",
       "AAPL        112.52      113.00      113.05\n",
       "CSCO         31.50       31.35       31.59\n",
       "MSFT         57.42       57.24       57.64"
      ]
     },
     "execution_count": 14,
     "metadata": {},
     "output_type": "execute_result"
    }
   ],
   "source": [
    "ser.unstack()"
   ]
  },
  {
   "cell_type": "code",
   "execution_count": 15,
   "metadata": {},
   "outputs": [],
   "source": [
    "df = stocks.pivot_table(values='Close', index='Symbol', columns='Date')"
   ]
  },
  {
   "cell_type": "code",
   "execution_count": 16,
   "metadata": {},
   "outputs": [],
   "source": [
    "stocks.set_index(['Symbol', 'Date'], inplace=True)"
   ]
  },
  {
   "cell_type": "code",
   "execution_count": 17,
   "metadata": {},
   "outputs": [
    {
     "data": {
      "text/plain": [
       "Symbol\n",
       "AAPL    112.52\n",
       "CSCO     31.50\n",
       "MSFT     57.42\n",
       "Name: Close, dtype: float64"
      ]
     },
     "execution_count": 17,
     "metadata": {},
     "output_type": "execute_result"
    }
   ],
   "source": [
    "ser.loc[:, '2016-10-03']"
   ]
  },
  {
   "cell_type": "code",
   "execution_count": 18,
   "metadata": {},
   "outputs": [
    {
     "data": {
      "text/plain": [
       "MultiIndex(levels=[['AAPL', 'CSCO', 'MSFT'], ['2016-10-03', '2016-10-04', '2016-10-05']],\n",
       "           labels=[[1, 0, 2, 0, 2, 1, 2, 1, 0], [0, 0, 0, 1, 1, 1, 2, 2, 2]],\n",
       "           names=['Symbol', 'Date'])"
      ]
     },
     "execution_count": 18,
     "metadata": {},
     "output_type": "execute_result"
    }
   ],
   "source": [
    "stocks.index"
   ]
  },
  {
   "cell_type": "code",
   "execution_count": 19,
   "metadata": {},
   "outputs": [],
   "source": [
    "stocks.sort_index(inplace=True)"
   ]
  },
  {
   "cell_type": "code",
   "execution_count": null,
   "metadata": {},
   "outputs": [],
   "source": [
    "\n"
   ]
  },
  {
   "cell_type": "code",
   "execution_count": null,
   "metadata": {},
   "outputs": [],
   "source": [
    "\n"
   ]
  },
  {
   "cell_type": "code",
   "execution_count": 20,
   "metadata": {},
   "outputs": [],
   "source": [
    "def to_float(iterable):\n",
    "    return (float(val) for val in iterable)"
   ]
  },
  {
   "cell_type": "code",
   "execution_count": 21,
   "metadata": {},
   "outputs": [],
   "source": [
    "class ConfigurationSyntaxError(Exception):\n",
    "    pass"
   ]
  },
  {
   "cell_type": "code",
   "execution_count": 22,
   "metadata": {},
   "outputs": [],
   "source": [
    "# @TODO \n",
    "# df_to_dict(df):\n",
    "    # get dictionary from dataframe X\n",
    "# @TODO \n",
    "# dict_to_fn(ordered_nested_dict, fname):\n",
    "    # write dict to file \n",
    "# @TODO multiply by constant to convert e^2fm^2 to barn"
   ]
  },
  {
   "cell_type": "code",
   "execution_count": 53,
   "metadata": {},
   "outputs": [],
   "source": [
    "def fn_to_dict(fname):\n",
    "    z_from_fname = int(''.join(filter(lambda c: not c.isalpha(), fname)))\n",
    "    with open(fname) as f:\n",
    "        contents = f.read()\n",
    "    \n",
    "    new_line = re.compile('\\n[\\s\\r]+?\\n')\n",
    "    blocks = new_line.split(contents)\n",
    "    \n",
    "    assert blocks[-1].strip() == '', \"Last line not empty!\"\n",
    "    assert len(blocks[:-1]) == 82, \"Not right number of blocks!\"\n",
    "    # gap from A = 170 to A = 178\n",
    "    \n",
    "    mydict = OrderedDict()\n",
    "    mydict[z_from_fname] =  OrderedDict()\n",
    "    \n",
    "    minA, maxA = 400, 0\n",
    "    for blk in blocks[:-1]: # except last line\n",
    "        block = blk.splitlines()\n",
    "    \n",
    "        nucleus_header = block[0].split()\n",
    "        Z, A = (int(val) for val in nucleus_header[1::2])\n",
    "        if (nucleus_header[0::2] != ['Z=', 'A=']) or (Z != z_from_fname):\n",
    "            raise ConfigurationSyntaxError('Wrong header inside %s!' % fname)\n",
    "        if int(A) < minA:\n",
    "            minA = int(A)\n",
    "        if int(A) > maxA:\n",
    "            maxA = int(A)\n",
    "        \n",
    "        col_header = block[1].split()\n",
    "        if col_header[:2] != ['U[MeV]', 'fE1[mb/MeV]']:\n",
    "            raise ConfigurationSyntaxError('Wrong header inside %s!' % fname)\n",
    "\n",
    "        columns = (row.split() for row in block[2:])\n",
    "        c1_vals, c2_vals = zip(*columns)\n",
    "\n",
    "        d = OrderedDict()\n",
    "        d[A] = OrderedDict(U=tuple(to_float(c1_vals)),\n",
    "                         fE1=tuple(to_float(c2_vals)))\n",
    "        mydict[Z].update(d)\n",
    "        \n",
    "    print(f\"Amax - Amin = {maxA - minA}, {len(blocks[:-1])} blocks\")\n",
    "    return mydict, minA, maxA"
   ]
  },
  {
   "cell_type": "code",
   "execution_count": 117,
   "metadata": {},
   "outputs": [],
   "source": [
    "def dict_to_fn(ordered_nested_dict, fname):\n",
    "    ond = ordered_nested_dict\n",
    "\n",
    "    assert len(ond.keys()) == 1, \"More than one element present in dict!\"\n",
    "\n",
    "    z_from_fname = int(''.join(filter(lambda c: not c.isalpha(), fname)))\n",
    "    assert list(ond.keys())[0] == z_from_fname, \"Elements from dict and file do not match!\"\n",
    "\n",
    "    col_header = f'  U[MeV]  fE1[mb/MeV]'\n",
    "    \n",
    "    atomic_mass_numbers = []\n",
    "    with open(fname, \"w\") as f:\n",
    "        for Z in ond.keys():\n",
    "            for A in ond[Z].keys():\n",
    "                atomic_mass_numbers.append(A)\n",
    "                nucleus_header = f' Z={Z:4d} A={A:4d}'\n",
    "                f.write(f'{nucleus_header}\\n')\n",
    "                f.write(f'{col_header}\\n')\n",
    "                for U, fE1 in zip(ond[Z][A]['U'], ond[Z][A]['fE1']):\n",
    "                    f.write('{:9.3f}   {:.3E}\\n'.format(U, fE1))\n",
    "                f.write(' \\n')\n",
    "    return atomic_mass_numbers"
   ]
  },
  {
   "cell_type": "code",
   "execution_count": 128,
   "metadata": {},
   "outputs": [
    {
     "name": "stdout",
     "output_type": "stream",
     "text": [
      "Amax - Amin = 88, 82 blocks\n",
      "Amin = 90, Amax = 178\n"
     ]
    }
   ],
   "source": [
    "md, a, b = fn_to_dict('z050')\n",
    "print(f\"Amin = {a}, Amax = {b}\")"
   ]
  },
  {
   "cell_type": "code",
   "execution_count": 129,
   "metadata": {},
   "outputs": [],
   "source": [
    "mnum = dict_to_fn(md, 'newz050')"
   ]
  },
  {
   "cell_type": "code",
   "execution_count": 130,
   "metadata": {},
   "outputs": [],
   "source": [
    "df = dict_to_df(md)"
   ]
  },
  {
   "cell_type": "code",
   "execution_count": 137,
   "metadata": {},
   "outputs": [],
   "source": [
    "def df_to_dict(df):\n",
    "    ond = OrderedDict() # ordered_nested_dict\n",
    "    for Z, A, data_col in df.columns:\n",
    "        if Z not in ond.keys():\n",
    "            ond[Z] = OrderedDict()\n",
    "        if A not in ond[Z].keys():\n",
    "            ond[Z][A] = OrderedDict()\n",
    "        ond[Z][A][data_col] = tuple(df[Z][A][data_col].values)\n",
    "    return ond"
   ]
  },
  {
   "cell_type": "code",
   "execution_count": 138,
   "metadata": {},
   "outputs": [],
   "source": [
    "md2 = df_to_dict(df)"
   ]
  },
  {
   "cell_type": "code",
   "execution_count": 106,
   "metadata": {},
   "outputs": [
    {
     "name": "stdout",
     "output_type": "stream",
     "text": [
      "178 8\n"
     ]
    }
   ],
   "source": [
    "for i, A in enumerate(mnum[1:], 1):\n",
    "    if A - mnum[i-1] != 1:\n",
    "        print(A, A - mnum[i-1])"
   ]
  },
  {
   "cell_type": "code",
   "execution_count": 28,
   "metadata": {},
   "outputs": [],
   "source": [
    "md_tst = {'50': {'100': {'col1': (0.100,\n",
    "                              0.200,\n",
    "                              0.300,\n",
    "                              0.400),\n",
    "                     'col2': (0.1359,\n",
    "                              0.14329,\n",
    "                              0.151455,\n",
    "                              0.160519)},\n",
    "             '101': {'col1': (0.100,\n",
    "                              0.200,\n",
    "                              0.300,\n",
    "                              0.400),\n",
    "                     'col2': (6.510E-03,\n",
    "                              7.011E-03,\n",
    "                              7.553E-03,\n",
    "                              8.134E-03)}\n",
    "            }\n",
    "     }"
   ]
  },
  {
   "cell_type": "code",
   "execution_count": 127,
   "metadata": {},
   "outputs": [],
   "source": [
    "def dict_to_df(ordered_nested_dict):\n",
    "    reform = {(firstKey, secondKey, thirdKey): values for firstKey, middleDict in ordered_nested_dict.items() for secondKey, innerdict in middleDict.items() for thirdKey, values in innerdict.items()}\n",
    "    df = pd.DataFrame(reform)\n",
    "    df = df.T # transpose\n",
    "    df.index.names=['Z', 'A', None]\n",
    "    return df.T"
   ]
  },
  {
   "cell_type": "code",
   "execution_count": 30,
   "metadata": {},
   "outputs": [],
   "source": [
    "# pprint.pprint(md)"
   ]
  },
  {
   "cell_type": "code",
   "execution_count": 31,
   "metadata": {
    "scrolled": false
   },
   "outputs": [
    {
     "data": {
      "text/html": [
       "<div>\n",
       "<style scoped>\n",
       "    .dataframe tbody tr th:only-of-type {\n",
       "        vertical-align: middle;\n",
       "    }\n",
       "\n",
       "    .dataframe tbody tr th {\n",
       "        vertical-align: top;\n",
       "    }\n",
       "\n",
       "    .dataframe thead th {\n",
       "        text-align: right;\n",
       "    }\n",
       "</style>\n",
       "<table border=\"1\" class=\"dataframe\">\n",
       "  <thead>\n",
       "    <tr style=\"text-align: right;\">\n",
       "      <th></th>\n",
       "      <th></th>\n",
       "      <th></th>\n",
       "      <th>0</th>\n",
       "      <th>1</th>\n",
       "      <th>2</th>\n",
       "      <th>3</th>\n",
       "      <th>4</th>\n",
       "      <th>5</th>\n",
       "      <th>6</th>\n",
       "      <th>7</th>\n",
       "      <th>8</th>\n",
       "      <th>9</th>\n",
       "      <th>...</th>\n",
       "      <th>290</th>\n",
       "      <th>291</th>\n",
       "      <th>292</th>\n",
       "      <th>293</th>\n",
       "      <th>294</th>\n",
       "      <th>295</th>\n",
       "      <th>296</th>\n",
       "      <th>297</th>\n",
       "      <th>298</th>\n",
       "      <th>299</th>\n",
       "    </tr>\n",
       "    <tr>\n",
       "      <th>Z</th>\n",
       "      <th>A</th>\n",
       "      <th></th>\n",
       "      <th></th>\n",
       "      <th></th>\n",
       "      <th></th>\n",
       "      <th></th>\n",
       "      <th></th>\n",
       "      <th></th>\n",
       "      <th></th>\n",
       "      <th></th>\n",
       "      <th></th>\n",
       "      <th></th>\n",
       "      <th></th>\n",
       "      <th></th>\n",
       "      <th></th>\n",
       "      <th></th>\n",
       "      <th></th>\n",
       "      <th></th>\n",
       "      <th></th>\n",
       "      <th></th>\n",
       "      <th></th>\n",
       "      <th></th>\n",
       "      <th></th>\n",
       "    </tr>\n",
       "  </thead>\n",
       "  <tbody>\n",
       "    <tr>\n",
       "      <th rowspan=\"5\" valign=\"top\">50</th>\n",
       "      <th rowspan=\"2\" valign=\"top\">90</th>\n",
       "      <th>U</th>\n",
       "      <td>0.100000</td>\n",
       "      <td>0.200000</td>\n",
       "      <td>0.300000</td>\n",
       "      <td>0.400000</td>\n",
       "      <td>0.500000</td>\n",
       "      <td>0.600000</td>\n",
       "      <td>0.700000</td>\n",
       "      <td>0.80000</td>\n",
       "      <td>0.90000</td>\n",
       "      <td>1.00000</td>\n",
       "      <td>...</td>\n",
       "      <td>29.1000</td>\n",
       "      <td>29.2000</td>\n",
       "      <td>29.3000</td>\n",
       "      <td>29.4000</td>\n",
       "      <td>29.5000</td>\n",
       "      <td>29.6000</td>\n",
       "      <td>29.7000</td>\n",
       "      <td>29.8000</td>\n",
       "      <td>29.9000</td>\n",
       "      <td>30.0000</td>\n",
       "    </tr>\n",
       "    <tr>\n",
       "      <th>fE1</th>\n",
       "      <td>0.006291</td>\n",
       "      <td>0.006776</td>\n",
       "      <td>0.007300</td>\n",
       "      <td>0.007862</td>\n",
       "      <td>0.008465</td>\n",
       "      <td>0.009107</td>\n",
       "      <td>0.009790</td>\n",
       "      <td>0.01051</td>\n",
       "      <td>0.01128</td>\n",
       "      <td>0.01209</td>\n",
       "      <td>...</td>\n",
       "      <td>0.9121</td>\n",
       "      <td>0.9004</td>\n",
       "      <td>0.8889</td>\n",
       "      <td>0.8775</td>\n",
       "      <td>0.8662</td>\n",
       "      <td>0.8550</td>\n",
       "      <td>0.8439</td>\n",
       "      <td>0.8329</td>\n",
       "      <td>0.8220</td>\n",
       "      <td>0.8110</td>\n",
       "    </tr>\n",
       "    <tr>\n",
       "      <th rowspan=\"2\" valign=\"top\">91</th>\n",
       "      <th>U</th>\n",
       "      <td>0.100000</td>\n",
       "      <td>0.200000</td>\n",
       "      <td>0.300000</td>\n",
       "      <td>0.400000</td>\n",
       "      <td>0.500000</td>\n",
       "      <td>0.600000</td>\n",
       "      <td>0.700000</td>\n",
       "      <td>0.80000</td>\n",
       "      <td>0.90000</td>\n",
       "      <td>1.00000</td>\n",
       "      <td>...</td>\n",
       "      <td>29.1000</td>\n",
       "      <td>29.2000</td>\n",
       "      <td>29.3000</td>\n",
       "      <td>29.4000</td>\n",
       "      <td>29.5000</td>\n",
       "      <td>29.6000</td>\n",
       "      <td>29.7000</td>\n",
       "      <td>29.8000</td>\n",
       "      <td>29.9000</td>\n",
       "      <td>30.0000</td>\n",
       "    </tr>\n",
       "    <tr>\n",
       "      <th>fE1</th>\n",
       "      <td>0.006350</td>\n",
       "      <td>0.006840</td>\n",
       "      <td>0.007369</td>\n",
       "      <td>0.007937</td>\n",
       "      <td>0.008545</td>\n",
       "      <td>0.009193</td>\n",
       "      <td>0.009882</td>\n",
       "      <td>0.01061</td>\n",
       "      <td>0.01138</td>\n",
       "      <td>0.01220</td>\n",
       "      <td>...</td>\n",
       "      <td>0.9619</td>\n",
       "      <td>0.9492</td>\n",
       "      <td>0.9365</td>\n",
       "      <td>0.9238</td>\n",
       "      <td>0.9111</td>\n",
       "      <td>0.8984</td>\n",
       "      <td>0.8858</td>\n",
       "      <td>0.8731</td>\n",
       "      <td>0.8605</td>\n",
       "      <td>0.8479</td>\n",
       "    </tr>\n",
       "    <tr>\n",
       "      <th>92</th>\n",
       "      <th>U</th>\n",
       "      <td>0.100000</td>\n",
       "      <td>0.200000</td>\n",
       "      <td>0.300000</td>\n",
       "      <td>0.400000</td>\n",
       "      <td>0.500000</td>\n",
       "      <td>0.600000</td>\n",
       "      <td>0.700000</td>\n",
       "      <td>0.80000</td>\n",
       "      <td>0.90000</td>\n",
       "      <td>1.00000</td>\n",
       "      <td>...</td>\n",
       "      <td>29.1000</td>\n",
       "      <td>29.2000</td>\n",
       "      <td>29.3000</td>\n",
       "      <td>29.4000</td>\n",
       "      <td>29.5000</td>\n",
       "      <td>29.6000</td>\n",
       "      <td>29.7000</td>\n",
       "      <td>29.8000</td>\n",
       "      <td>29.9000</td>\n",
       "      <td>30.0000</td>\n",
       "    </tr>\n",
       "  </tbody>\n",
       "</table>\n",
       "<p>5 rows × 300 columns</p>\n",
       "</div>"
      ],
      "text/plain": [
       "                0         1         2         3         4         5    \\\n",
       "Z  A                                                                    \n",
       "50 90 U    0.100000  0.200000  0.300000  0.400000  0.500000  0.600000   \n",
       "      fE1  0.006291  0.006776  0.007300  0.007862  0.008465  0.009107   \n",
       "   91 U    0.100000  0.200000  0.300000  0.400000  0.500000  0.600000   \n",
       "      fE1  0.006350  0.006840  0.007369  0.007937  0.008545  0.009193   \n",
       "   92 U    0.100000  0.200000  0.300000  0.400000  0.500000  0.600000   \n",
       "\n",
       "                6        7        8        9     ...         290      291  \\\n",
       "Z  A                                             ...                        \n",
       "50 90 U    0.700000  0.80000  0.90000  1.00000   ...     29.1000  29.2000   \n",
       "      fE1  0.009790  0.01051  0.01128  0.01209   ...      0.9121   0.9004   \n",
       "   91 U    0.700000  0.80000  0.90000  1.00000   ...     29.1000  29.2000   \n",
       "      fE1  0.009882  0.01061  0.01138  0.01220   ...      0.9619   0.9492   \n",
       "   92 U    0.700000  0.80000  0.90000  1.00000   ...     29.1000  29.2000   \n",
       "\n",
       "               292      293      294      295      296      297      298  \\\n",
       "Z  A                                                                       \n",
       "50 90 U    29.3000  29.4000  29.5000  29.6000  29.7000  29.8000  29.9000   \n",
       "      fE1   0.8889   0.8775   0.8662   0.8550   0.8439   0.8329   0.8220   \n",
       "   91 U    29.3000  29.4000  29.5000  29.6000  29.7000  29.8000  29.9000   \n",
       "      fE1   0.9365   0.9238   0.9111   0.8984   0.8858   0.8731   0.8605   \n",
       "   92 U    29.3000  29.4000  29.5000  29.6000  29.7000  29.8000  29.9000   \n",
       "\n",
       "               299  \n",
       "Z  A                \n",
       "50 90 U    30.0000  \n",
       "      fE1   0.8110  \n",
       "   91 U    30.0000  \n",
       "      fE1   0.8479  \n",
       "   92 U    30.0000  \n",
       "\n",
       "[5 rows x 300 columns]"
      ]
     },
     "execution_count": 31,
     "metadata": {},
     "output_type": "execute_result"
    }
   ],
   "source": [
    "df = dict_to_df(md)\n",
    "df.head()"
   ]
  },
  {
   "cell_type": "code",
   "execution_count": 32,
   "metadata": {},
   "outputs": [
    {
     "data": {
      "text/html": [
       "<div>\n",
       "<style scoped>\n",
       "    .dataframe tbody tr th:only-of-type {\n",
       "        vertical-align: middle;\n",
       "    }\n",
       "\n",
       "    .dataframe tbody tr th {\n",
       "        vertical-align: top;\n",
       "    }\n",
       "\n",
       "    .dataframe thead th {\n",
       "        text-align: right;\n",
       "    }\n",
       "</style>\n",
       "<table border=\"1\" class=\"dataframe\">\n",
       "  <thead>\n",
       "    <tr style=\"text-align: right;\">\n",
       "      <th></th>\n",
       "      <th></th>\n",
       "      <th></th>\n",
       "      <th>0</th>\n",
       "      <th>1</th>\n",
       "      <th>2</th>\n",
       "      <th>3</th>\n",
       "      <th>4</th>\n",
       "      <th>5</th>\n",
       "      <th>6</th>\n",
       "      <th>7</th>\n",
       "      <th>8</th>\n",
       "      <th>9</th>\n",
       "      <th>...</th>\n",
       "      <th>290</th>\n",
       "      <th>291</th>\n",
       "      <th>292</th>\n",
       "      <th>293</th>\n",
       "      <th>294</th>\n",
       "      <th>295</th>\n",
       "      <th>296</th>\n",
       "      <th>297</th>\n",
       "      <th>298</th>\n",
       "      <th>299</th>\n",
       "    </tr>\n",
       "    <tr>\n",
       "      <th>Z</th>\n",
       "      <th>A</th>\n",
       "      <th></th>\n",
       "      <th></th>\n",
       "      <th></th>\n",
       "      <th></th>\n",
       "      <th></th>\n",
       "      <th></th>\n",
       "      <th></th>\n",
       "      <th></th>\n",
       "      <th></th>\n",
       "      <th></th>\n",
       "      <th></th>\n",
       "      <th></th>\n",
       "      <th></th>\n",
       "      <th></th>\n",
       "      <th></th>\n",
       "      <th></th>\n",
       "      <th></th>\n",
       "      <th></th>\n",
       "      <th></th>\n",
       "      <th></th>\n",
       "      <th></th>\n",
       "      <th></th>\n",
       "    </tr>\n",
       "  </thead>\n",
       "  <tbody>\n",
       "    <tr>\n",
       "      <th rowspan=\"2\" valign=\"top\">50</th>\n",
       "      <th rowspan=\"2\" valign=\"top\">146</th>\n",
       "      <th>U</th>\n",
       "      <td>0.10000</td>\n",
       "      <td>0.20000</td>\n",
       "      <td>0.30000</td>\n",
       "      <td>0.40000</td>\n",
       "      <td>0.50000</td>\n",
       "      <td>0.60000</td>\n",
       "      <td>0.7000</td>\n",
       "      <td>0.80000</td>\n",
       "      <td>0.90000</td>\n",
       "      <td>1.00000</td>\n",
       "      <td>...</td>\n",
       "      <td>29.100</td>\n",
       "      <td>29.200</td>\n",
       "      <td>29.300</td>\n",
       "      <td>29.400</td>\n",
       "      <td>29.500</td>\n",
       "      <td>29.600</td>\n",
       "      <td>29.700</td>\n",
       "      <td>29.800</td>\n",
       "      <td>29.90</td>\n",
       "      <td>30.000</td>\n",
       "    </tr>\n",
       "    <tr>\n",
       "      <th>fE1</th>\n",
       "      <td>0.01944</td>\n",
       "      <td>0.02095</td>\n",
       "      <td>0.02259</td>\n",
       "      <td>0.02436</td>\n",
       "      <td>0.02627</td>\n",
       "      <td>0.02831</td>\n",
       "      <td>0.0305</td>\n",
       "      <td>0.03284</td>\n",
       "      <td>0.03533</td>\n",
       "      <td>0.03799</td>\n",
       "      <td>...</td>\n",
       "      <td>1.277</td>\n",
       "      <td>1.266</td>\n",
       "      <td>1.256</td>\n",
       "      <td>1.245</td>\n",
       "      <td>1.234</td>\n",
       "      <td>1.224</td>\n",
       "      <td>1.213</td>\n",
       "      <td>1.201</td>\n",
       "      <td>1.19</td>\n",
       "      <td>1.179</td>\n",
       "    </tr>\n",
       "  </tbody>\n",
       "</table>\n",
       "<p>2 rows × 300 columns</p>\n",
       "</div>"
      ],
      "text/plain": [
       "                0        1        2        3        4        5       6    \\\n",
       "Z  A                                                                       \n",
       "50 146 U    0.10000  0.20000  0.30000  0.40000  0.50000  0.60000  0.7000   \n",
       "       fE1  0.01944  0.02095  0.02259  0.02436  0.02627  0.02831  0.0305   \n",
       "\n",
       "                7        8        9     ...       290     291     292     293  \\\n",
       "Z  A                                    ...                                     \n",
       "50 146 U    0.80000  0.90000  1.00000   ...    29.100  29.200  29.300  29.400   \n",
       "       fE1  0.03284  0.03533  0.03799   ...     1.277   1.266   1.256   1.245   \n",
       "\n",
       "               294     295     296     297    298     299  \n",
       "Z  A                                                       \n",
       "50 146 U    29.500  29.600  29.700  29.800  29.90  30.000  \n",
       "       fE1   1.234   1.224   1.213   1.201   1.19   1.179  \n",
       "\n",
       "[2 rows x 300 columns]"
      ]
     },
     "execution_count": 32,
     "metadata": {},
     "output_type": "execute_result"
    }
   ],
   "source": [
    "df.loc[(50, 146, ['U', 'fE1']), :]"
   ]
  },
  {
   "cell_type": "code",
   "execution_count": 33,
   "metadata": {},
   "outputs": [
    {
     "data": {
      "text/html": [
       "<div>\n",
       "<style scoped>\n",
       "    .dataframe tbody tr th:only-of-type {\n",
       "        vertical-align: middle;\n",
       "    }\n",
       "\n",
       "    .dataframe tbody tr th {\n",
       "        vertical-align: top;\n",
       "    }\n",
       "\n",
       "    .dataframe thead th {\n",
       "        text-align: right;\n",
       "    }\n",
       "</style>\n",
       "<table border=\"1\" class=\"dataframe\">\n",
       "  <thead>\n",
       "    <tr style=\"text-align: right;\">\n",
       "      <th></th>\n",
       "      <th></th>\n",
       "      <th></th>\n",
       "      <th>0</th>\n",
       "      <th>1</th>\n",
       "      <th>2</th>\n",
       "      <th>3</th>\n",
       "      <th>4</th>\n",
       "      <th>5</th>\n",
       "      <th>6</th>\n",
       "      <th>7</th>\n",
       "      <th>8</th>\n",
       "      <th>9</th>\n",
       "      <th>...</th>\n",
       "      <th>290</th>\n",
       "      <th>291</th>\n",
       "      <th>292</th>\n",
       "      <th>293</th>\n",
       "      <th>294</th>\n",
       "      <th>295</th>\n",
       "      <th>296</th>\n",
       "      <th>297</th>\n",
       "      <th>298</th>\n",
       "      <th>299</th>\n",
       "    </tr>\n",
       "    <tr>\n",
       "      <th>Z</th>\n",
       "      <th>A</th>\n",
       "      <th></th>\n",
       "      <th></th>\n",
       "      <th></th>\n",
       "      <th></th>\n",
       "      <th></th>\n",
       "      <th></th>\n",
       "      <th></th>\n",
       "      <th></th>\n",
       "      <th></th>\n",
       "      <th></th>\n",
       "      <th></th>\n",
       "      <th></th>\n",
       "      <th></th>\n",
       "      <th></th>\n",
       "      <th></th>\n",
       "      <th></th>\n",
       "      <th></th>\n",
       "      <th></th>\n",
       "      <th></th>\n",
       "      <th></th>\n",
       "      <th></th>\n",
       "      <th></th>\n",
       "    </tr>\n",
       "  </thead>\n",
       "  <tbody>\n",
       "    <tr>\n",
       "      <th rowspan=\"2\" valign=\"top\">50</th>\n",
       "      <th rowspan=\"2\" valign=\"top\">146</th>\n",
       "      <th>U</th>\n",
       "      <td>0.1000</td>\n",
       "      <td>0.20000</td>\n",
       "      <td>0.300000</td>\n",
       "      <td>0.400000</td>\n",
       "      <td>0.500000</td>\n",
       "      <td>0.600000</td>\n",
       "      <td>0.700000</td>\n",
       "      <td>0.800000</td>\n",
       "      <td>0.900000</td>\n",
       "      <td>1.000000</td>\n",
       "      <td>...</td>\n",
       "      <td>29.100000</td>\n",
       "      <td>29.200000</td>\n",
       "      <td>29.30000</td>\n",
       "      <td>29.400000</td>\n",
       "      <td>29.500000</td>\n",
       "      <td>29.600000</td>\n",
       "      <td>29.700000</td>\n",
       "      <td>29.800000</td>\n",
       "      <td>29.900000</td>\n",
       "      <td>30.000000</td>\n",
       "    </tr>\n",
       "    <tr>\n",
       "      <th>fE1</th>\n",
       "      <td>0.1359</td>\n",
       "      <td>0.14329</td>\n",
       "      <td>0.151455</td>\n",
       "      <td>0.160519</td>\n",
       "      <td>0.170631</td>\n",
       "      <td>0.181975</td>\n",
       "      <td>0.194774</td>\n",
       "      <td>0.209311</td>\n",
       "      <td>0.225938</td>\n",
       "      <td>0.245101</td>\n",
       "      <td>...</td>\n",
       "      <td>0.090461</td>\n",
       "      <td>0.093698</td>\n",
       "      <td>0.09674</td>\n",
       "      <td>0.099111</td>\n",
       "      <td>0.100767</td>\n",
       "      <td>0.102081</td>\n",
       "      <td>0.103364</td>\n",
       "      <td>0.104466</td>\n",
       "      <td>0.104862</td>\n",
       "      <td>0.104155</td>\n",
       "    </tr>\n",
       "  </tbody>\n",
       "</table>\n",
       "<p>2 rows × 300 columns</p>\n",
       "</div>"
      ],
      "text/plain": [
       "               0        1         2         3         4         5         6    \\\n",
       "Z  A                                                                            \n",
       "50 146 U    0.1000  0.20000  0.300000  0.400000  0.500000  0.600000  0.700000   \n",
       "       fE1  0.1359  0.14329  0.151455  0.160519  0.170631  0.181975  0.194774   \n",
       "\n",
       "                 7         8         9      ...            290        291  \\\n",
       "Z  A                                        ...                             \n",
       "50 146 U    0.800000  0.900000  1.000000    ...      29.100000  29.200000   \n",
       "       fE1  0.209311  0.225938  0.245101    ...       0.090461   0.093698   \n",
       "\n",
       "                 292        293        294        295        296        297  \\\n",
       "Z  A                                                                          \n",
       "50 146 U    29.30000  29.400000  29.500000  29.600000  29.700000  29.800000   \n",
       "       fE1   0.09674   0.099111   0.100767   0.102081   0.103364   0.104466   \n",
       "\n",
       "                  298        299  \n",
       "Z  A                              \n",
       "50 146 U    29.900000  30.000000  \n",
       "       fE1   0.104862   0.104155  \n",
       "\n",
       "[2 rows x 300 columns]"
      ]
     },
     "execution_count": 33,
     "metadata": {},
     "output_type": "execute_result"
    }
   ],
   "source": [
    "lorvec_df.loc[(50, 146, ['U', 'fE1']), :]"
   ]
  },
  {
   "cell_type": "code",
   "execution_count": 34,
   "metadata": {},
   "outputs": [],
   "source": [
    "df.loc[(50, 146, ['U', 'fE1']), :] = lorvec_df.loc[(50, 146, ['U', 'fE1']), :]"
   ]
  },
  {
   "cell_type": "code",
   "execution_count": 35,
   "metadata": {},
   "outputs": [
    {
     "data": {
      "text/html": [
       "<div>\n",
       "<style scoped>\n",
       "    .dataframe tbody tr th:only-of-type {\n",
       "        vertical-align: middle;\n",
       "    }\n",
       "\n",
       "    .dataframe tbody tr th {\n",
       "        vertical-align: top;\n",
       "    }\n",
       "\n",
       "    .dataframe thead th {\n",
       "        text-align: right;\n",
       "    }\n",
       "</style>\n",
       "<table border=\"1\" class=\"dataframe\">\n",
       "  <thead>\n",
       "    <tr style=\"text-align: right;\">\n",
       "      <th></th>\n",
       "      <th></th>\n",
       "      <th></th>\n",
       "      <th>0</th>\n",
       "      <th>1</th>\n",
       "      <th>2</th>\n",
       "      <th>3</th>\n",
       "      <th>4</th>\n",
       "      <th>5</th>\n",
       "      <th>6</th>\n",
       "      <th>7</th>\n",
       "      <th>8</th>\n",
       "      <th>9</th>\n",
       "      <th>...</th>\n",
       "      <th>290</th>\n",
       "      <th>291</th>\n",
       "      <th>292</th>\n",
       "      <th>293</th>\n",
       "      <th>294</th>\n",
       "      <th>295</th>\n",
       "      <th>296</th>\n",
       "      <th>297</th>\n",
       "      <th>298</th>\n",
       "      <th>299</th>\n",
       "    </tr>\n",
       "    <tr>\n",
       "      <th>Z</th>\n",
       "      <th>A</th>\n",
       "      <th></th>\n",
       "      <th></th>\n",
       "      <th></th>\n",
       "      <th></th>\n",
       "      <th></th>\n",
       "      <th></th>\n",
       "      <th></th>\n",
       "      <th></th>\n",
       "      <th></th>\n",
       "      <th></th>\n",
       "      <th></th>\n",
       "      <th></th>\n",
       "      <th></th>\n",
       "      <th></th>\n",
       "      <th></th>\n",
       "      <th></th>\n",
       "      <th></th>\n",
       "      <th></th>\n",
       "      <th></th>\n",
       "      <th></th>\n",
       "      <th></th>\n",
       "      <th></th>\n",
       "    </tr>\n",
       "  </thead>\n",
       "  <tbody>\n",
       "    <tr>\n",
       "      <th rowspan=\"2\" valign=\"top\">50</th>\n",
       "      <th rowspan=\"2\" valign=\"top\">146</th>\n",
       "      <th>U</th>\n",
       "      <td>0.1000</td>\n",
       "      <td>0.20000</td>\n",
       "      <td>0.300000</td>\n",
       "      <td>0.400000</td>\n",
       "      <td>0.500000</td>\n",
       "      <td>0.600000</td>\n",
       "      <td>0.700000</td>\n",
       "      <td>0.800000</td>\n",
       "      <td>0.900000</td>\n",
       "      <td>1.000000</td>\n",
       "      <td>...</td>\n",
       "      <td>29.100000</td>\n",
       "      <td>29.200000</td>\n",
       "      <td>29.30000</td>\n",
       "      <td>29.400000</td>\n",
       "      <td>29.500000</td>\n",
       "      <td>29.600000</td>\n",
       "      <td>29.700000</td>\n",
       "      <td>29.800000</td>\n",
       "      <td>29.900000</td>\n",
       "      <td>30.000000</td>\n",
       "    </tr>\n",
       "    <tr>\n",
       "      <th>fE1</th>\n",
       "      <td>0.1359</td>\n",
       "      <td>0.14329</td>\n",
       "      <td>0.151455</td>\n",
       "      <td>0.160519</td>\n",
       "      <td>0.170631</td>\n",
       "      <td>0.181975</td>\n",
       "      <td>0.194774</td>\n",
       "      <td>0.209311</td>\n",
       "      <td>0.225938</td>\n",
       "      <td>0.245101</td>\n",
       "      <td>...</td>\n",
       "      <td>0.090461</td>\n",
       "      <td>0.093698</td>\n",
       "      <td>0.09674</td>\n",
       "      <td>0.099111</td>\n",
       "      <td>0.100767</td>\n",
       "      <td>0.102081</td>\n",
       "      <td>0.103364</td>\n",
       "      <td>0.104466</td>\n",
       "      <td>0.104862</td>\n",
       "      <td>0.104155</td>\n",
       "    </tr>\n",
       "  </tbody>\n",
       "</table>\n",
       "<p>2 rows × 300 columns</p>\n",
       "</div>"
      ],
      "text/plain": [
       "               0        1         2         3         4         5         6    \\\n",
       "Z  A                                                                            \n",
       "50 146 U    0.1000  0.20000  0.300000  0.400000  0.500000  0.600000  0.700000   \n",
       "       fE1  0.1359  0.14329  0.151455  0.160519  0.170631  0.181975  0.194774   \n",
       "\n",
       "                 7         8         9      ...            290        291  \\\n",
       "Z  A                                        ...                             \n",
       "50 146 U    0.800000  0.900000  1.000000    ...      29.100000  29.200000   \n",
       "       fE1  0.209311  0.225938  0.245101    ...       0.090461   0.093698   \n",
       "\n",
       "                 292        293        294        295        296        297  \\\n",
       "Z  A                                                                          \n",
       "50 146 U    29.30000  29.400000  29.500000  29.600000  29.700000  29.800000   \n",
       "       fE1   0.09674   0.099111   0.100767   0.102081   0.103364   0.104466   \n",
       "\n",
       "                  298        299  \n",
       "Z  A                              \n",
       "50 146 U    29.900000  30.000000  \n",
       "       fE1   0.104862   0.104155  \n",
       "\n",
       "[2 rows x 300 columns]"
      ]
     },
     "execution_count": 35,
     "metadata": {},
     "output_type": "execute_result"
    }
   ],
   "source": [
    "df.loc[(50, 146, ['U', 'fE1']), :]"
   ]
  },
  {
   "cell_type": "code",
   "execution_count": 36,
   "metadata": {},
   "outputs": [],
   "source": [
    "md_tst = {'50': {'100': {'col1': (0.100,\n",
    "                              0.200,\n",
    "                              0.300,\n",
    "                              0.400),\n",
    "                     'col2': (0.1359,\n",
    "                              0.14329,\n",
    "                              0.151455,\n",
    "                              0.160519)},\n",
    "             '101': {'col1': (0.100,\n",
    "                              0.200,\n",
    "                              0.300,\n",
    "                              0.400),\n",
    "                     'col2': (6.510E-03,\n",
    "                              7.011E-03,\n",
    "                              7.553E-03,\n",
    "                              8.134E-03)}\n",
    "            }\n",
    "     }"
   ]
  },
  {
   "cell_type": "code",
   "execution_count": 37,
   "metadata": {},
   "outputs": [
    {
     "data": {
      "text/html": [
       "<div>\n",
       "<style scoped>\n",
       "    .dataframe tbody tr th:only-of-type {\n",
       "        vertical-align: middle;\n",
       "    }\n",
       "\n",
       "    .dataframe tbody tr th {\n",
       "        vertical-align: top;\n",
       "    }\n",
       "\n",
       "    .dataframe thead th {\n",
       "        text-align: right;\n",
       "    }\n",
       "</style>\n",
       "<table border=\"1\" class=\"dataframe\">\n",
       "  <thead>\n",
       "    <tr style=\"text-align: right;\">\n",
       "      <th></th>\n",
       "      <th></th>\n",
       "      <th></th>\n",
       "      <th>0</th>\n",
       "      <th>1</th>\n",
       "      <th>2</th>\n",
       "      <th>3</th>\n",
       "    </tr>\n",
       "    <tr>\n",
       "      <th>Z</th>\n",
       "      <th>A</th>\n",
       "      <th></th>\n",
       "      <th></th>\n",
       "      <th></th>\n",
       "      <th></th>\n",
       "      <th></th>\n",
       "    </tr>\n",
       "  </thead>\n",
       "  <tbody>\n",
       "    <tr>\n",
       "      <th rowspan=\"4\" valign=\"top\">50</th>\n",
       "      <th rowspan=\"2\" valign=\"top\">100</th>\n",
       "      <th>col1</th>\n",
       "      <td>0.10000</td>\n",
       "      <td>0.200000</td>\n",
       "      <td>0.300000</td>\n",
       "      <td>0.400000</td>\n",
       "    </tr>\n",
       "    <tr>\n",
       "      <th>col2</th>\n",
       "      <td>0.13590</td>\n",
       "      <td>0.143290</td>\n",
       "      <td>0.151455</td>\n",
       "      <td>0.160519</td>\n",
       "    </tr>\n",
       "    <tr>\n",
       "      <th rowspan=\"2\" valign=\"top\">101</th>\n",
       "      <th>col1</th>\n",
       "      <td>0.10000</td>\n",
       "      <td>0.200000</td>\n",
       "      <td>0.300000</td>\n",
       "      <td>0.400000</td>\n",
       "    </tr>\n",
       "    <tr>\n",
       "      <th>col2</th>\n",
       "      <td>0.00651</td>\n",
       "      <td>0.007011</td>\n",
       "      <td>0.007553</td>\n",
       "      <td>0.008134</td>\n",
       "    </tr>\n",
       "  </tbody>\n",
       "</table>\n",
       "</div>"
      ],
      "text/plain": [
       "                   0         1         2         3\n",
       "Z  A                                              \n",
       "50 100 col1  0.10000  0.200000  0.300000  0.400000\n",
       "       col2  0.13590  0.143290  0.151455  0.160519\n",
       "   101 col1  0.10000  0.200000  0.300000  0.400000\n",
       "       col2  0.00651  0.007011  0.007553  0.008134"
      ]
     },
     "execution_count": 37,
     "metadata": {},
     "output_type": "execute_result"
    }
   ],
   "source": [
    "df_tst = dict_to_df(md_tst)\n",
    "df_tst"
   ]
  },
  {
   "cell_type": "code",
   "execution_count": 38,
   "metadata": {},
   "outputs": [
    {
     "name": "stdout",
     "output_type": "stream",
     "text": [
      "{('50', '100', 'col1'): [0.1, 0.2, 0.3, 0.4],\n",
      " ('50', '100', 'col2'): [0.1359, 0.14329, 0.151455, 0.160519],\n",
      " ('50', '101', 'col1'): [0.1, 0.2, 0.3, 0.4],\n",
      " ('50', '101', 'col2'): [0.00651, 0.007011, 0.007553, 0.008134]}\n",
      "\n",
      "MultiIndex(levels=[['50'], ['100', '101'], ['col1', 'col2']],\n",
      "           labels=[[0, 0, 0, 0], [0, 0, 1, 1], [0, 1, 0, 1]],\n",
      "           names=['Z', 'A', None])\n"
     ]
    }
   ],
   "source": [
    "df_tst = df_tst.T\n",
    "pprint.pprint(df_tst.to_dict('list')) # dict is OK\n",
    "df_tst = df_tst.T\n",
    "print()\n",
    "print(df_tst.index) # index is OK"
   ]
  },
  {
   "cell_type": "code",
   "execution_count": 39,
   "metadata": {},
   "outputs": [
    {
     "data": {
      "text/html": [
       "<div>\n",
       "<style scoped>\n",
       "    .dataframe tbody tr th:only-of-type {\n",
       "        vertical-align: middle;\n",
       "    }\n",
       "\n",
       "    .dataframe tbody tr th {\n",
       "        vertical-align: top;\n",
       "    }\n",
       "\n",
       "    .dataframe thead th {\n",
       "        text-align: right;\n",
       "    }\n",
       "</style>\n",
       "<table border=\"1\" class=\"dataframe\">\n",
       "  <thead>\n",
       "    <tr style=\"text-align: right;\">\n",
       "      <th></th>\n",
       "      <th></th>\n",
       "      <th></th>\n",
       "      <th>0</th>\n",
       "      <th>1</th>\n",
       "      <th>2</th>\n",
       "      <th>3</th>\n",
       "    </tr>\n",
       "    <tr>\n",
       "      <th>Z</th>\n",
       "      <th>A</th>\n",
       "      <th></th>\n",
       "      <th></th>\n",
       "      <th></th>\n",
       "      <th></th>\n",
       "      <th></th>\n",
       "    </tr>\n",
       "  </thead>\n",
       "  <tbody>\n",
       "    <tr>\n",
       "      <th rowspan=\"2\" valign=\"top\">50</th>\n",
       "      <th rowspan=\"2\" valign=\"top\">100</th>\n",
       "      <th>col1</th>\n",
       "      <td>0.1000</td>\n",
       "      <td>0.20000</td>\n",
       "      <td>0.300000</td>\n",
       "      <td>0.400000</td>\n",
       "    </tr>\n",
       "    <tr>\n",
       "      <th>col2</th>\n",
       "      <td>0.1359</td>\n",
       "      <td>0.14329</td>\n",
       "      <td>0.151455</td>\n",
       "      <td>0.160519</td>\n",
       "    </tr>\n",
       "  </tbody>\n",
       "</table>\n",
       "</div>"
      ],
      "text/plain": [
       "                  0        1         2         3\n",
       "Z  A                                            \n",
       "50 100 col1  0.1000  0.20000  0.300000  0.400000\n",
       "       col2  0.1359  0.14329  0.151455  0.160519"
      ]
     },
     "execution_count": 39,
     "metadata": {},
     "output_type": "execute_result"
    }
   ],
   "source": [
    "table = df_tst.loc[('50', '100', ['col1', 'col2']), :]\n",
    "table"
   ]
  },
  {
   "cell_type": "code",
   "execution_count": 40,
   "metadata": {
    "lines_to_next_cell": 2
   },
   "outputs": [
    {
     "data": {
      "text/plain": [
       "0    0.1\n",
       "1    0.2\n",
       "2    0.3\n",
       "3    0.4\n",
       "Name: (50, 100, col1), dtype: float64"
      ]
     },
     "execution_count": 40,
     "metadata": {},
     "output_type": "execute_result"
    }
   ],
   "source": [
    "s = df_tst.loc[('50', '100', 'col1'), :]\n",
    "s"
   ]
  },
  {
   "cell_type": "code",
   "execution_count": null,
   "metadata": {},
   "outputs": [],
   "source": []
  },
  {
   "cell_type": "code",
   "execution_count": null,
   "metadata": {},
   "outputs": [],
   "source": []
  },
  {
   "cell_type": "code",
   "execution_count": 41,
   "metadata": {},
   "outputs": [
    {
     "data": {
      "text/html": [
       "<div>\n",
       "<style scoped>\n",
       "    .dataframe tbody tr th:only-of-type {\n",
       "        vertical-align: middle;\n",
       "    }\n",
       "\n",
       "    .dataframe tbody tr th {\n",
       "        vertical-align: top;\n",
       "    }\n",
       "\n",
       "    .dataframe thead th {\n",
       "        text-align: right;\n",
       "    }\n",
       "</style>\n",
       "<table border=\"1\" class=\"dataframe\">\n",
       "  <thead>\n",
       "    <tr style=\"text-align: right;\">\n",
       "      <th></th>\n",
       "      <th></th>\n",
       "      <th>Close</th>\n",
       "      <th>Volume</th>\n",
       "    </tr>\n",
       "    <tr>\n",
       "      <th>Symbol</th>\n",
       "      <th>Date</th>\n",
       "      <th></th>\n",
       "      <th></th>\n",
       "    </tr>\n",
       "  </thead>\n",
       "  <tbody>\n",
       "    <tr>\n",
       "      <th rowspan=\"3\" valign=\"top\">AAPL</th>\n",
       "      <th>2016-10-03</th>\n",
       "      <td>112.52</td>\n",
       "      <td>21701800</td>\n",
       "    </tr>\n",
       "    <tr>\n",
       "      <th>2016-10-04</th>\n",
       "      <td>113.00</td>\n",
       "      <td>29736800</td>\n",
       "    </tr>\n",
       "    <tr>\n",
       "      <th>2016-10-05</th>\n",
       "      <td>113.05</td>\n",
       "      <td>21453100</td>\n",
       "    </tr>\n",
       "    <tr>\n",
       "      <th rowspan=\"3\" valign=\"top\">CSCO</th>\n",
       "      <th>2016-10-03</th>\n",
       "      <td>31.50</td>\n",
       "      <td>14070500</td>\n",
       "    </tr>\n",
       "    <tr>\n",
       "      <th>2016-10-04</th>\n",
       "      <td>31.35</td>\n",
       "      <td>18460400</td>\n",
       "    </tr>\n",
       "    <tr>\n",
       "      <th>2016-10-05</th>\n",
       "      <td>31.59</td>\n",
       "      <td>11808600</td>\n",
       "    </tr>\n",
       "    <tr>\n",
       "      <th rowspan=\"3\" valign=\"top\">MSFT</th>\n",
       "      <th>2016-10-03</th>\n",
       "      <td>57.42</td>\n",
       "      <td>19189500</td>\n",
       "    </tr>\n",
       "    <tr>\n",
       "      <th>2016-10-04</th>\n",
       "      <td>57.24</td>\n",
       "      <td>20085900</td>\n",
       "    </tr>\n",
       "    <tr>\n",
       "      <th>2016-10-05</th>\n",
       "      <td>57.64</td>\n",
       "      <td>16726400</td>\n",
       "    </tr>\n",
       "  </tbody>\n",
       "</table>\n",
       "</div>"
      ],
      "text/plain": [
       "                    Close    Volume\n",
       "Symbol Date                        \n",
       "AAPL   2016-10-03  112.52  21701800\n",
       "       2016-10-04  113.00  29736800\n",
       "       2016-10-05  113.05  21453100\n",
       "CSCO   2016-10-03   31.50  14070500\n",
       "       2016-10-04   31.35  18460400\n",
       "       2016-10-05   31.59  11808600\n",
       "MSFT   2016-10-03   57.42  19189500\n",
       "       2016-10-04   57.24  20085900\n",
       "       2016-10-05   57.64  16726400"
      ]
     },
     "execution_count": 41,
     "metadata": {},
     "output_type": "execute_result"
    }
   ],
   "source": [
    "stocks"
   ]
  },
  {
   "cell_type": "code",
   "execution_count": 42,
   "metadata": {},
   "outputs": [
    {
     "data": {
      "text/html": [
       "<div>\n",
       "<style scoped>\n",
       "    .dataframe tbody tr th:only-of-type {\n",
       "        vertical-align: middle;\n",
       "    }\n",
       "\n",
       "    .dataframe tbody tr th {\n",
       "        vertical-align: top;\n",
       "    }\n",
       "\n",
       "    .dataframe thead th {\n",
       "        text-align: right;\n",
       "    }\n",
       "</style>\n",
       "<table border=\"1\" class=\"dataframe\">\n",
       "  <thead>\n",
       "    <tr style=\"text-align: right;\">\n",
       "      <th></th>\n",
       "      <th></th>\n",
       "      <th>Close</th>\n",
       "      <th>Volume</th>\n",
       "    </tr>\n",
       "    <tr>\n",
       "      <th>Symbol</th>\n",
       "      <th>Date</th>\n",
       "      <th></th>\n",
       "      <th></th>\n",
       "    </tr>\n",
       "  </thead>\n",
       "  <tbody>\n",
       "    <tr>\n",
       "      <th rowspan=\"2\" valign=\"top\">AAPL</th>\n",
       "      <th>2016-10-03</th>\n",
       "      <td>112.52</td>\n",
       "      <td>21701800</td>\n",
       "    </tr>\n",
       "    <tr>\n",
       "      <th>2016-10-04</th>\n",
       "      <td>113.00</td>\n",
       "      <td>29736800</td>\n",
       "    </tr>\n",
       "    <tr>\n",
       "      <th rowspan=\"2\" valign=\"top\">CSCO</th>\n",
       "      <th>2016-10-03</th>\n",
       "      <td>31.50</td>\n",
       "      <td>14070500</td>\n",
       "    </tr>\n",
       "    <tr>\n",
       "      <th>2016-10-04</th>\n",
       "      <td>31.35</td>\n",
       "      <td>18460400</td>\n",
       "    </tr>\n",
       "    <tr>\n",
       "      <th rowspan=\"2\" valign=\"top\">MSFT</th>\n",
       "      <th>2016-10-03</th>\n",
       "      <td>57.42</td>\n",
       "      <td>19189500</td>\n",
       "    </tr>\n",
       "    <tr>\n",
       "      <th>2016-10-04</th>\n",
       "      <td>57.24</td>\n",
       "      <td>20085900</td>\n",
       "    </tr>\n",
       "  </tbody>\n",
       "</table>\n",
       "</div>"
      ],
      "text/plain": [
       "                    Close    Volume\n",
       "Symbol Date                        \n",
       "AAPL   2016-10-03  112.52  21701800\n",
       "       2016-10-04  113.00  29736800\n",
       "CSCO   2016-10-03   31.50  14070500\n",
       "       2016-10-04   31.35  18460400\n",
       "MSFT   2016-10-03   57.42  19189500\n",
       "       2016-10-04   57.24  20085900"
      ]
     },
     "execution_count": 42,
     "metadata": {},
     "output_type": "execute_result"
    }
   ],
   "source": [
    "stocks.loc[('AAPL', '2016-10-03'), :] # rows, columns\n",
    "stocks.loc[('AAPL', '2016-10-03'), 'Close']\n",
    "stocks.loc[(['AAPL', 'MSFT'], '2016-10-03'), :]\n",
    "stocks.loc[(['AAPL', 'MSFT'], '2016-10-03'), 'Close']\n",
    "stocks.loc[('AAPL', ['2016-10-03', '2016-10-04']), 'Close']\n",
    "stocks.loc[(slice(None), ['2016-10-03', '2016-10-04']), :]"
   ]
  }
 ],
 "metadata": {
  "jupytext": {
   "text_representation": {
    "extension": ".py",
    "format_name": "percent",
    "format_version": "1.2",
    "jupytext_version": "0.8.6"
   }
  },
  "kernelspec": {
   "display_name": "Python 3",
   "language": "python",
   "name": "python3"
  },
  "language_info": {
   "codemirror_mode": {
    "name": "ipython",
    "version": 3
   },
   "file_extension": ".py",
   "mimetype": "text/x-python",
   "name": "python",
   "nbconvert_exporter": "python",
   "pygments_lexer": "ipython3",
   "version": "3.6.5"
  }
 },
 "nbformat": 4,
 "nbformat_minor": 2
}
