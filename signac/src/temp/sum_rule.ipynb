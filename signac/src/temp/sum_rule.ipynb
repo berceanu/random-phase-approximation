{
 "cells": [
  {
   "cell_type": "code",
   "execution_count": 1,
   "metadata": {},
   "outputs": [
    {
     "data": {
      "application/javascript": [
       "IPython.notebook.set_autosave_interval(0)"
      ]
     },
     "metadata": {},
     "output_type": "display_data"
    },
    {
     "name": "stdout",
     "output_type": "stream",
     "text": [
      "Autosave disabled\n"
     ]
    }
   ],
   "source": [
    "%autosave 0"
   ]
  },
  {
   "cell_type": "code",
   "execution_count": 2,
   "metadata": {},
   "outputs": [],
   "source": [
    "import math\n",
    "import signac\n",
    "import pandas as pd\n",
    "import mypackage.code_api as code_api"
   ]
  },
  {
   "cell_type": "code",
   "execution_count": 3,
   "metadata": {},
   "outputs": [
    {
     "name": "stdout",
     "output_type": "stream",
     "text": [
      "/home/berceanu/Development/random-phase-approximation/signac\n"
     ]
    }
   ],
   "source": [
    "code = code_api.NameMapping()\n",
    "rpa = signac.get_project()\n",
    "print(rpa.root_directory())\n",
    "\n",
    "selection = rpa.find_jobs({'proton_number': 50, 'neutron_number': 82,\n",
    "                           'temperature': 0.})"
   ]
  },
  {
   "cell_type": "code",
   "execution_count": 4,
   "metadata": {},
   "outputs": [],
   "source": [
    "myjob = next(selection)"
   ]
  },
  {
   "cell_type": "code",
   "execution_count": 5,
   "metadata": {},
   "outputs": [
    {
     "data": {
      "text/plain": [
       "'5eef084526475fef1d287858275f9b28'"
      ]
     },
     "execution_count": 5,
     "metadata": {},
     "output_type": "execute_result"
    }
   ],
   "source": [
    "myjob._id"
   ]
  },
  {
   "cell_type": "markdown",
   "metadata": {},
   "source": [
    "https://en.wikipedia.org/wiki/Elementary_charge\n",
    "\n",
    "In SI, we have the relation:\n",
    "$$e^2 = 2 \\epsilon_0 \\alpha h c = 4 \\pi \\epsilon_0 \\alpha \\hbar c$$\n",
    "\n",
    "The conversion factor for charge from SI to Gaussian units is $q_{\\text{SI}} = q_{\\text{G}} \\sqrt{4 \\pi \\epsilon_{0}^{\\text{SI}}}$\n",
    "https://en.wikipedia.org/wiki/Gaussian_units\n",
    "\n",
    "Therefore we get\n",
    "$$ e_{\\text{G}}^2 = \\alpha \\hbar_{\\text{G}} c$$"
   ]
  },
  {
   "cell_type": "code",
   "execution_count": 6,
   "metadata": {},
   "outputs": [],
   "source": [
    "α = 7.297352570e-03 # fine structure constant\n",
    "\n",
    "ħ_G = 1.0545716e-27 #erg⋅s\n",
    "erg_to_MeV = 624150.91 # MeV\n",
    "ħ_MeV = ħ_G * erg_to_MeV # MeV⋅s\n",
    "\n",
    "c = 2.9979246e+23 # fm/s"
   ]
  },
  {
   "cell_type": "code",
   "execution_count": 7,
   "metadata": {},
   "outputs": [
    {
     "name": "stdout",
     "output_type": "stream",
     "text": [
      "ħ_G c = 197.32694185813529 MeV⋅fm\n"
     ]
    }
   ],
   "source": [
    "ħ_MeVc = ħ_MeV * c\n",
    "print(f'ħ_G c = {ħ_MeVc} MeV⋅fm')"
   ]
  },
  {
   "cell_type": "code",
   "execution_count": 8,
   "metadata": {},
   "outputs": [
    {
     "name": "stdout",
     "output_type": "stream",
     "text": [
      "e^2_G = 1.4399642662987042 MeV⋅fm\n"
     ]
    }
   ],
   "source": [
    "e_sq_G = α * ħ_MeVc # MeV⋅fm\n",
    "print(f'e^2_G = {e_sq_G} MeV⋅fm')"
   ]
  },
  {
   "cell_type": "code",
   "execution_count": 9,
   "metadata": {},
   "outputs": [
    {
     "name": "stdout",
     "output_type": "stream",
     "text": [
      "4.022466\n"
     ]
    }
   ],
   "source": [
    "u_factor = 10 * 16 * math.pi**3 * α / 9 # mb / (e^2 * fm^2)\n",
    "print('{:.6f}'.format(u_factor))"
   ]
  },
  {
   "cell_type": "markdown",
   "metadata": {},
   "source": [
    "https://doi.org/10.1016/j.nuclphysa.2009.03.009\n",
    "\n",
    "From Eq. (11) in this paper, we get a factor of \n",
    "$$\\frac{16\\pi^3e^2_G}{9\\hbar c} = \\frac{16\\pi^3 \\alpha}{9}$$\n",
    "$$f_g = \\frac{16\\pi^3 \\alpha}{9} \\times S\\left[\\frac{\\text{fm}^2}{\\text{MeV}}\\right] = 0.402247 \\times S\\left[\\frac{\\text{fm}^2}{\\text{MeV}}\\right] = 4.022466 \\times S\\left[\\frac{\\text{mb}}{\\text{MeV}}\\right] $$"
   ]
  },
  {
   "cell_type": "code",
   "execution_count": 10,
   "metadata": {},
   "outputs": [],
   "source": [
    "lorvec_fn = myjob.fn(code.out_file(temp='zero', \n",
    "                        skalvec='isovector', lorexc='lorentzian'))\n",
    "excvec_fn = myjob.fn(code.out_file(temp='zero', \n",
    "                        skalvec='isovector', lorexc='excitation'))"
   ]
  },
  {
   "cell_type": "code",
   "execution_count": 11,
   "metadata": {},
   "outputs": [
    {
     "name": "stdout",
     "output_type": "stream",
     "text": [
      "#RPA-results:\r\n",
      "#Nucleus: SN 132\r\n",
      "#Excitation: 1 -\r\n",
      "#Total number of pairs: 1111\r\n",
      "#Number of ph-/ah-pairs: 590/521\r\n",
      "#Maximal excitation-energy for particle-hole-pairs: 200\r\n",
      "#Maximal excitation-energy for antiparticle-hole-pairs: 2000\r\n",
      "#2 imaginary eigenvalues\r\n",
      "#Listing imaginary eigenvalues:\r\n",
      "#Imaginary part: 3.717608e-01\r\n",
      "#Real part: 4.649614e-13\r\n",
      "#Imaginary part: -3.717608e-01\r\n",
      "#Real part: 4.649614e-13\r\n",
      "\r\n",
      "#Parameterset: DD-ME2\r\n",
      "#natural parity: yes\r\n",
      "#Isovector result:\r\n",
      "\r\n",
      "7.751396e+00\t1.183565e+00\r\n",
      "8.046284e+00\t8.740788e-02\r\n"
     ]
    }
   ],
   "source": [
    "# ! head -n 25 {lorvec_fn} \n",
    "! head -n 20 {excvec_fn}"
   ]
  },
  {
   "cell_type": "code",
   "execution_count": 12,
   "metadata": {},
   "outputs": [],
   "source": [
    "def sum_rule(fname, \n",
    "             cutoff_en=None, # MeV\n",
    "             unit_factor=u_factor, # mb / (e^2 * fm^2)\n",
    "            ):\n",
    "    df = pd.read_csv(fname, delim_whitespace=True, comment='#', skip_blank_lines=True,\n",
    "            header=None, names=['U', 'fE1']) # Mev, e^2*fm^2/MeV\n",
    "    if cutoff_en:\n",
    "        df = df[(df.U <= cutoff_en)] # MeV\n",
    "    df['fE1s'] = df['fE1'].apply(lambda x: x * unit_factor) # mb/MeV\n",
    "    df['UxfE1s'] = df.apply(lambda row: (row['U'] * row['fE1s']),\n",
    "                                   axis=1)\n",
    "    total_sum = df['UxfE1s'].sum()\n",
    "    return df, total_sum"
   ]
  },
  {
   "cell_type": "code",
   "execution_count": 13,
   "metadata": {},
   "outputs": [
    {
     "name": "stdout",
     "output_type": "stream",
     "text": [
      "Lorentzian isovector sum rule: 251352.808 mb.\n",
      "Excitation isovector sum rule: 2548.412 mb.\n",
      "Experimentally measured value is 2330 ± 590 mb.\n"
     ]
    }
   ],
   "source": [
    "lorvec_df, lorvec_sum = sum_rule(lorvec_fn)\n",
    "excvec_df, excvec_sum = sum_rule(excvec_fn)\n",
    "print(f'Lorentzian isovector sum rule: {lorvec_sum:.3f} mb.')\n",
    "print(f'Excitation isovector sum rule: {excvec_sum:.3f} mb.')\n",
    "print(f'Experimentally measured value is 2330 ± 590 mb.') "
   ]
  },
  {
   "cell_type": "code",
   "execution_count": 14,
   "metadata": {},
   "outputs": [
    {
     "data": {
      "text/html": [
       "<div>\n",
       "<style scoped>\n",
       "    .dataframe tbody tr th:only-of-type {\n",
       "        vertical-align: middle;\n",
       "    }\n",
       "\n",
       "    .dataframe tbody tr th {\n",
       "        vertical-align: top;\n",
       "    }\n",
       "\n",
       "    .dataframe thead th {\n",
       "        text-align: right;\n",
       "    }\n",
       "</style>\n",
       "<table border=\"1\" class=\"dataframe\">\n",
       "  <thead>\n",
       "    <tr style=\"text-align: right;\">\n",
       "      <th></th>\n",
       "      <th>U</th>\n",
       "      <th>fE1</th>\n",
       "      <th>UxfE1s</th>\n",
       "    </tr>\n",
       "  </thead>\n",
       "  <tbody>\n",
       "    <tr>\n",
       "      <th>4996</th>\n",
       "      <td>49.96</td>\n",
       "      <td>0.028445</td>\n",
       "      <td>1.421122</td>\n",
       "    </tr>\n",
       "    <tr>\n",
       "      <th>4997</th>\n",
       "      <td>49.97</td>\n",
       "      <td>0.028431</td>\n",
       "      <td>1.420699</td>\n",
       "    </tr>\n",
       "    <tr>\n",
       "      <th>4998</th>\n",
       "      <td>49.98</td>\n",
       "      <td>0.028418</td>\n",
       "      <td>1.420322</td>\n",
       "    </tr>\n",
       "    <tr>\n",
       "      <th>4999</th>\n",
       "      <td>49.99</td>\n",
       "      <td>0.028405</td>\n",
       "      <td>1.419991</td>\n",
       "    </tr>\n",
       "    <tr>\n",
       "      <th>5000</th>\n",
       "      <td>50.00</td>\n",
       "      <td>0.028394</td>\n",
       "      <td>1.419706</td>\n",
       "    </tr>\n",
       "  </tbody>\n",
       "</table>\n",
       "</div>"
      ],
      "text/plain": [
       "          U       fE1    UxfE1s\n",
       "4996  49.96  0.028445  1.421122\n",
       "4997  49.97  0.028431  1.420699\n",
       "4998  49.98  0.028418  1.420322\n",
       "4999  49.99  0.028405  1.419991\n",
       "5000  50.00  0.028394  1.419706"
      ]
     },
     "execution_count": 14,
     "metadata": {},
     "output_type": "execute_result"
    }
   ],
   "source": [
    "lorvec_df.tail()"
   ]
  },
  {
   "cell_type": "code",
   "execution_count": 15,
   "metadata": {},
   "outputs": [
    {
     "data": {
      "text/html": [
       "<div>\n",
       "<style scoped>\n",
       "    .dataframe tbody tr th:only-of-type {\n",
       "        vertical-align: middle;\n",
       "    }\n",
       "\n",
       "    .dataframe tbody tr th {\n",
       "        vertical-align: top;\n",
       "    }\n",
       "\n",
       "    .dataframe thead th {\n",
       "        text-align: right;\n",
       "    }\n",
       "</style>\n",
       "<table border=\"1\" class=\"dataframe\">\n",
       "  <thead>\n",
       "    <tr style=\"text-align: right;\">\n",
       "      <th></th>\n",
       "      <th>U</th>\n",
       "      <th>fE1</th>\n",
       "      <th>UxfE1s</th>\n",
       "    </tr>\n",
       "  </thead>\n",
       "  <tbody>\n",
       "    <tr>\n",
       "      <th>346</th>\n",
       "      <td>78.39390</td>\n",
       "      <td>0.000434</td>\n",
       "      <td>0.034018</td>\n",
       "    </tr>\n",
       "    <tr>\n",
       "      <th>347</th>\n",
       "      <td>78.80869</td>\n",
       "      <td>0.004225</td>\n",
       "      <td>0.332960</td>\n",
       "    </tr>\n",
       "    <tr>\n",
       "      <th>348</th>\n",
       "      <td>79.40030</td>\n",
       "      <td>0.000001</td>\n",
       "      <td>0.000090</td>\n",
       "    </tr>\n",
       "    <tr>\n",
       "      <th>349</th>\n",
       "      <td>79.73621</td>\n",
       "      <td>0.003079</td>\n",
       "      <td>0.245496</td>\n",
       "    </tr>\n",
       "    <tr>\n",
       "      <th>350</th>\n",
       "      <td>79.94843</td>\n",
       "      <td>0.005614</td>\n",
       "      <td>0.448829</td>\n",
       "    </tr>\n",
       "  </tbody>\n",
       "</table>\n",
       "</div>"
      ],
      "text/plain": [
       "            U       fE1    UxfE1s\n",
       "346  78.39390  0.000434  0.034018\n",
       "347  78.80869  0.004225  0.332960\n",
       "348  79.40030  0.000001  0.000090\n",
       "349  79.73621  0.003079  0.245496\n",
       "350  79.94843  0.005614  0.448829"
      ]
     },
     "execution_count": 15,
     "metadata": {},
     "output_type": "execute_result"
    }
   ],
   "source": [
    "excvec_df.tail()"
   ]
  },
  {
   "cell_type": "code",
   "execution_count": null,
   "metadata": {},
   "outputs": [],
   "source": []
  }
 ],
 "metadata": {
  "jupytext": {
   "text_representation": {
    "extension": ".py",
    "format_name": "percent",
    "format_version": "1.2",
    "jupytext_version": "0.8.6"
   }
  },
  "kernelspec": {
   "display_name": "Python 3",
   "language": "python",
   "name": "python3"
  },
  "language_info": {
   "codemirror_mode": {
    "name": "ipython",
    "version": 3
   },
   "file_extension": ".py",
   "mimetype": "text/x-python",
   "name": "python",
   "nbconvert_exporter": "python",
   "pygments_lexer": "ipython3",
   "version": "3.6.5"
  }
 },
 "nbformat": 4,
 "nbformat_minor": 2
}
