{
 "cells": [
  {
   "cell_type": "code",
   "execution_count": 1,
   "metadata": {},
   "outputs": [
    {
     "data": {
      "application/javascript": [
       "IPython.notebook.set_autosave_interval(0)"
      ]
     },
     "metadata": {},
     "output_type": "display_data"
    },
    {
     "name": "stdout",
     "output_type": "stream",
     "text": [
      "Autosave disabled\n"
     ]
    }
   ],
   "source": [
    "%autosave 0"
   ]
  },
  {
   "cell_type": "code",
   "execution_count": 2,
   "metadata": {},
   "outputs": [],
   "source": [
    "import pandas as pd\n",
    "import numpy as np\n",
    "import re\n",
    "import pprint\n",
    "from collections import OrderedDict"
   ]
  },
  {
   "cell_type": "code",
   "execution_count": 3,
   "metadata": {},
   "outputs": [
    {
     "name": "stdout",
     "output_type": "stream",
     "text": [
      "#RPA-results:\r\n",
      "#Nucleus: SN 146\r\n",
      "#Excitation: 1 -\r\n",
      "#Total number of pairs: 2188\r\n",
      "#Number of ph-/ah-pairs: 1554/634\r\n",
      "#Maximal excitation-energy for particle-hole-pairs: 200\r\n",
      "#Maximal excitation-energy for antiparticle-hole-pairs: 2000\r\n",
      "#2 imaginary eigenvalues\r\n",
      "#Listing imaginary eigenvalues:\r\n",
      "#Imaginary part: 4.383495e-01\r\n"
     ]
    }
   ],
   "source": [
    "! head ftes_lorvec.out"
   ]
  },
  {
   "cell_type": "code",
   "execution_count": 4,
   "metadata": {},
   "outputs": [
    {
     "data": {
      "text/plain": [
       "96"
      ]
     },
     "execution_count": 4,
     "metadata": {},
     "output_type": "execute_result"
    }
   ],
   "source": [
    "146 - 50"
   ]
  },
  {
   "cell_type": "code",
   "execution_count": 5,
   "metadata": {},
   "outputs": [],
   "source": [
    "# 'energy', 'transition_strength'\n",
    "#  names=['col1', 'col2']\n",
    "df_lorvec = pd.read_csv('ftes_lorvec.out', delim_whitespace=True, comment='#', skip_blank_lines=True,\n",
    "            header=None, names=['col1', 'col2'])"
   ]
  },
  {
   "cell_type": "code",
   "execution_count": 6,
   "metadata": {},
   "outputs": [],
   "source": [
    "df_lorvec = df_lorvec[(df_lorvec.col1 >= 0.1) & (df_lorvec.col1 <= 30)] # MeV"
   ]
  },
  {
   "cell_type": "code",
   "execution_count": 7,
   "metadata": {},
   "outputs": [
    {
     "data": {
      "text/html": [
       "<div>\n",
       "<style scoped>\n",
       "    .dataframe tbody tr th:only-of-type {\n",
       "        vertical-align: middle;\n",
       "    }\n",
       "\n",
       "    .dataframe tbody tr th {\n",
       "        vertical-align: top;\n",
       "    }\n",
       "\n",
       "    .dataframe thead th {\n",
       "        text-align: right;\n",
       "    }\n",
       "</style>\n",
       "<table border=\"1\" class=\"dataframe\">\n",
       "  <thead>\n",
       "    <tr style=\"text-align: right;\">\n",
       "      <th></th>\n",
       "      <th>col1</th>\n",
       "      <th>col2</th>\n",
       "    </tr>\n",
       "  </thead>\n",
       "  <tbody>\n",
       "    <tr>\n",
       "      <th>10</th>\n",
       "      <td>0.10</td>\n",
       "      <td>0.135900</td>\n",
       "    </tr>\n",
       "    <tr>\n",
       "      <th>11</th>\n",
       "      <td>0.11</td>\n",
       "      <td>0.136607</td>\n",
       "    </tr>\n",
       "    <tr>\n",
       "      <th>12</th>\n",
       "      <td>0.12</td>\n",
       "      <td>0.137321</td>\n",
       "    </tr>\n",
       "    <tr>\n",
       "      <th>13</th>\n",
       "      <td>0.13</td>\n",
       "      <td>0.138042</td>\n",
       "    </tr>\n",
       "    <tr>\n",
       "      <th>14</th>\n",
       "      <td>0.14</td>\n",
       "      <td>0.138770</td>\n",
       "    </tr>\n",
       "  </tbody>\n",
       "</table>\n",
       "</div>"
      ],
      "text/plain": [
       "    col1      col2\n",
       "10  0.10  0.135900\n",
       "11  0.11  0.136607\n",
       "12  0.12  0.137321\n",
       "13  0.13  0.138042\n",
       "14  0.14  0.138770"
      ]
     },
     "execution_count": 7,
     "metadata": {},
     "output_type": "execute_result"
    }
   ],
   "source": [
    "df_lorvec.head()"
   ]
  },
  {
   "cell_type": "code",
   "execution_count": 8,
   "metadata": {},
   "outputs": [
    {
     "name": "stdout",
     "output_type": "stream",
     "text": [
      "           0        1         2         3\n",
      "col1  0.1000  0.20000  0.300000  0.400000\n",
      "col2  0.1359  0.14329  0.151455  0.160519\n",
      "Index(['col1', 'col2'], dtype='object')\n"
     ]
    }
   ],
   "source": [
    "every_10 = df_lorvec.iloc[::10, :]\n",
    "every_10.reset_index(drop=True, inplace=True)\n",
    "df = every_10.iloc[:4, :].T\n",
    "print(df.to_string())\n",
    "print()\n",
    "print(df.index)"
   ]
  },
  {
   "cell_type": "code",
   "execution_count": 37,
   "metadata": {},
   "outputs": [
    {
     "name": "stdout",
     "output_type": "stream",
     "text": [
      "                  0        1         2         3\n",
      "Z  A                                            \n",
      "50 100 col1  0.1000  0.20000  0.300000  0.400000\n",
      "       col2  0.1359  0.14329  0.151455  0.160519\n",
      "\n",
      "MultiIndex(levels=[['50'], ['100', '101'], ['col1', 'col2']],\n",
      "           labels=[[0, 0], [0, 0], [0, 1]],\n",
      "           names=['Z', 'A', None])\n"
     ]
    }
   ],
   "source": [
    "# print(table.to_string())\n",
    "print()\n",
    "# print(table.index)"
   ]
  },
  {
   "cell_type": "code",
   "execution_count": 10,
   "metadata": {},
   "outputs": [],
   "source": [
    "myidx = pd.MultiIndex(levels=[['50'], ['100'], ['col1', 'col2']],\n",
    "                      labels=[[0, 0], [0, 0], [0, 1]],\n",
    "                       names=['Z', 'A', None])"
   ]
  },
  {
   "cell_type": "code",
   "execution_count": 11,
   "metadata": {},
   "outputs": [
    {
     "name": "stdout",
     "output_type": "stream",
     "text": [
      "              0   1   2   3\n",
      "Z  A                       \n",
      "50 100 col1 NaN NaN NaN NaN\n",
      "       col2 NaN NaN NaN NaN\n"
     ]
    }
   ],
   "source": [
    "print(df.reindex(index=myidx).to_string())"
   ]
  },
  {
   "cell_type": "code",
   "execution_count": null,
   "metadata": {},
   "outputs": [],
   "source": []
  },
  {
   "cell_type": "code",
   "execution_count": 12,
   "metadata": {},
   "outputs": [],
   "source": [
    "stocks = pd.read_csv('http://bit.ly/smallstocks')"
   ]
  },
  {
   "cell_type": "code",
   "execution_count": 13,
   "metadata": {},
   "outputs": [
    {
     "data": {
      "text/plain": [
       "Symbol\n",
       "AAPL    112.856667\n",
       "CSCO     31.480000\n",
       "MSFT     57.433333\n",
       "Name: Close, dtype: float64"
      ]
     },
     "execution_count": 13,
     "metadata": {},
     "output_type": "execute_result"
    }
   ],
   "source": [
    "stocks.groupby('Symbol').Close.mean()"
   ]
  },
  {
   "cell_type": "code",
   "execution_count": 14,
   "metadata": {},
   "outputs": [],
   "source": [
    "ser = stocks.groupby(['Symbol', 'Date']).Close.mean()"
   ]
  },
  {
   "cell_type": "code",
   "execution_count": 15,
   "metadata": {},
   "outputs": [
    {
     "data": {
      "text/plain": [
       "MultiIndex(levels=[['AAPL', 'CSCO', 'MSFT'], ['2016-10-03', '2016-10-04', '2016-10-05']],\n",
       "           labels=[[0, 0, 0, 1, 1, 1, 2, 2, 2], [0, 1, 2, 0, 1, 2, 0, 1, 2]],\n",
       "           names=['Symbol', 'Date'])"
      ]
     },
     "execution_count": 15,
     "metadata": {},
     "output_type": "execute_result"
    }
   ],
   "source": [
    "ser.index"
   ]
  },
  {
   "cell_type": "code",
   "execution_count": 16,
   "metadata": {},
   "outputs": [
    {
     "data": {
      "text/html": [
       "<div>\n",
       "<style scoped>\n",
       "    .dataframe tbody tr th:only-of-type {\n",
       "        vertical-align: middle;\n",
       "    }\n",
       "\n",
       "    .dataframe tbody tr th {\n",
       "        vertical-align: top;\n",
       "    }\n",
       "\n",
       "    .dataframe thead th {\n",
       "        text-align: right;\n",
       "    }\n",
       "</style>\n",
       "<table border=\"1\" class=\"dataframe\">\n",
       "  <thead>\n",
       "    <tr style=\"text-align: right;\">\n",
       "      <th>Date</th>\n",
       "      <th>2016-10-03</th>\n",
       "      <th>2016-10-04</th>\n",
       "      <th>2016-10-05</th>\n",
       "    </tr>\n",
       "    <tr>\n",
       "      <th>Symbol</th>\n",
       "      <th></th>\n",
       "      <th></th>\n",
       "      <th></th>\n",
       "    </tr>\n",
       "  </thead>\n",
       "  <tbody>\n",
       "    <tr>\n",
       "      <th>AAPL</th>\n",
       "      <td>112.52</td>\n",
       "      <td>113.00</td>\n",
       "      <td>113.05</td>\n",
       "    </tr>\n",
       "    <tr>\n",
       "      <th>CSCO</th>\n",
       "      <td>31.50</td>\n",
       "      <td>31.35</td>\n",
       "      <td>31.59</td>\n",
       "    </tr>\n",
       "    <tr>\n",
       "      <th>MSFT</th>\n",
       "      <td>57.42</td>\n",
       "      <td>57.24</td>\n",
       "      <td>57.64</td>\n",
       "    </tr>\n",
       "  </tbody>\n",
       "</table>\n",
       "</div>"
      ],
      "text/plain": [
       "Date    2016-10-03  2016-10-04  2016-10-05\n",
       "Symbol                                    \n",
       "AAPL        112.52      113.00      113.05\n",
       "CSCO         31.50       31.35       31.59\n",
       "MSFT         57.42       57.24       57.64"
      ]
     },
     "execution_count": 16,
     "metadata": {},
     "output_type": "execute_result"
    }
   ],
   "source": [
    "ser.unstack()"
   ]
  },
  {
   "cell_type": "code",
   "execution_count": 17,
   "metadata": {},
   "outputs": [],
   "source": [
    "df = stocks.pivot_table(values='Close', index='Symbol', columns='Date')"
   ]
  },
  {
   "cell_type": "code",
   "execution_count": 18,
   "metadata": {},
   "outputs": [],
   "source": [
    "stocks.set_index(['Symbol', 'Date'], inplace=True)"
   ]
  },
  {
   "cell_type": "code",
   "execution_count": 19,
   "metadata": {},
   "outputs": [
    {
     "data": {
      "text/plain": [
       "Symbol\n",
       "AAPL    112.52\n",
       "CSCO     31.50\n",
       "MSFT     57.42\n",
       "Name: Close, dtype: float64"
      ]
     },
     "execution_count": 19,
     "metadata": {},
     "output_type": "execute_result"
    }
   ],
   "source": [
    "ser.loc[:, '2016-10-03']"
   ]
  },
  {
   "cell_type": "code",
   "execution_count": 20,
   "metadata": {},
   "outputs": [
    {
     "data": {
      "text/plain": [
       "MultiIndex(levels=[['AAPL', 'CSCO', 'MSFT'], ['2016-10-03', '2016-10-04', '2016-10-05']],\n",
       "           labels=[[1, 0, 2, 0, 2, 1, 2, 1, 0], [0, 0, 0, 1, 1, 1, 2, 2, 2]],\n",
       "           names=['Symbol', 'Date'])"
      ]
     },
     "execution_count": 20,
     "metadata": {},
     "output_type": "execute_result"
    }
   ],
   "source": [
    "stocks.index"
   ]
  },
  {
   "cell_type": "code",
   "execution_count": 21,
   "metadata": {},
   "outputs": [],
   "source": [
    "stocks.sort_index(inplace=True)"
   ]
  },
  {
   "cell_type": "code",
   "execution_count": null,
   "metadata": {
    "lines_to_next_cell": 2
   },
   "outputs": [],
   "source": []
  },
  {
   "cell_type": "code",
   "execution_count": null,
   "metadata": {},
   "outputs": [],
   "source": []
  },
  {
   "cell_type": "code",
   "execution_count": 22,
   "metadata": {},
   "outputs": [],
   "source": [
    "def to_float(iterable):\n",
    "    return (float(val) for val in iterable)"
   ]
  },
  {
   "cell_type": "code",
   "execution_count": 23,
   "metadata": {},
   "outputs": [],
   "source": [
    "class ConfigurationSyntaxError(Exception):\n",
    "    pass"
   ]
  },
  {
   "cell_type": "code",
   "execution_count": 24,
   "metadata": {},
   "outputs": [],
   "source": [
    "def fn_to_dict(fname):\n",
    "    z_from_fname = int(''.join(filter(lambda c: not c.isalpha(), fname)))\n",
    "    contents = open(fname).read()\n",
    "    \n",
    "    new_line = re.compile('\\n[\\s\\r]+?\\n')\n",
    "    blocks = new_line.split(contents)\n",
    "    \n",
    "    assert blocks[-1].strip() == '', \"Last line not empty!\"\n",
    "    assert len(blocks[:-1]) == 82, \"Not right number of blocks!\"\n",
    "    \n",
    "    mydict = OrderedDict()\n",
    "    mydict[z_from_fname] =  OrderedDict()\n",
    "    \n",
    "    minA, maxA = 400, 0\n",
    "    for blk in blocks[:-1]: # except last line\n",
    "        block = blk.splitlines()\n",
    "    \n",
    "        nucleus_header = block[0].split()\n",
    "        Z, A = (int(val) for val in nucleus_header[1::2])\n",
    "        if (nucleus_header[0::2] != ['Z=', 'A=']) or (Z != z_from_fname):\n",
    "            raise ConfigurationSyntaxError('Wrong header inside %s!' % fname)\n",
    "        if int(A) < minA:\n",
    "            minA = int(A)\n",
    "        if int(A) > maxA:\n",
    "            maxA = int(A)\n",
    "        \n",
    "        col_header = block[1].split()\n",
    "        if col_header[:2] != ['U[MeV]', 'fE1[mb/MeV]']:\n",
    "            raise ConfigurationSyntaxError('Wrong header inside %s!' % fname)\n",
    "\n",
    "        columns = (row.split() for row in block[2:])\n",
    "        c1_vals, c2_vals = zip(*columns)\n",
    "\n",
    "        d = OrderedDict()\n",
    "        d[A] = OrderedDict(U=list(to_float(c1_vals)),\n",
    "                         fE1=list(to_float(c2_vals)))\n",
    "        mydict[Z].update(d)\n",
    "        \n",
    "    print(f\"Amax - Amin = {maxA - minA}, {len(blocks[:-1])} blocks\")\n",
    "    return mydict, minA, maxA"
   ]
  },
  {
   "cell_type": "code",
   "execution_count": 25,
   "metadata": {},
   "outputs": [
    {
     "name": "stdout",
     "output_type": "stream",
     "text": [
      "Amax - Amin = 88, 82 blocks\n",
      "Amin = 90, Amax = 178\n"
     ]
    }
   ],
   "source": [
    "md, a, b = fn_to_dict('z050')\n",
    "print(f\"Amin = {a}, Amax = {b}\")"
   ]
  },
  {
   "cell_type": "code",
   "execution_count": 26,
   "metadata": {},
   "outputs": [],
   "source": [
    "def dict_to_df(ordered_nested_dict):\n",
    "    reform = {(firstKey, secondKey, thirdKey): values for firstKey, middleDict in ordered_nested_dict.items() for secondKey, innerdict in middleDict.items() for thirdKey, values in innerdict.items()}\n",
    "    df = pd.DataFrame(reform)\n",
    "    df = df.T # transpose\n",
    "    df.index.names=['Z', 'A', None]\n",
    "    return df"
   ]
  },
  {
   "cell_type": "code",
   "execution_count": 27,
   "metadata": {},
   "outputs": [],
   "source": [
    "# pprint.pprint(md)"
   ]
  },
  {
   "cell_type": "code",
   "execution_count": 28,
   "metadata": {},
   "outputs": [
    {
     "data": {
      "text/html": [
       "<div>\n",
       "<style scoped>\n",
       "    .dataframe tbody tr th:only-of-type {\n",
       "        vertical-align: middle;\n",
       "    }\n",
       "\n",
       "    .dataframe tbody tr th {\n",
       "        vertical-align: top;\n",
       "    }\n",
       "\n",
       "    .dataframe thead th {\n",
       "        text-align: right;\n",
       "    }\n",
       "</style>\n",
       "<table border=\"1\" class=\"dataframe\">\n",
       "  <thead>\n",
       "    <tr style=\"text-align: right;\">\n",
       "      <th></th>\n",
       "      <th></th>\n",
       "      <th></th>\n",
       "      <th>0</th>\n",
       "      <th>1</th>\n",
       "      <th>2</th>\n",
       "      <th>3</th>\n",
       "      <th>4</th>\n",
       "      <th>5</th>\n",
       "      <th>6</th>\n",
       "      <th>7</th>\n",
       "      <th>8</th>\n",
       "      <th>9</th>\n",
       "      <th>...</th>\n",
       "      <th>290</th>\n",
       "      <th>291</th>\n",
       "      <th>292</th>\n",
       "      <th>293</th>\n",
       "      <th>294</th>\n",
       "      <th>295</th>\n",
       "      <th>296</th>\n",
       "      <th>297</th>\n",
       "      <th>298</th>\n",
       "      <th>299</th>\n",
       "    </tr>\n",
       "    <tr>\n",
       "      <th>Z</th>\n",
       "      <th>A</th>\n",
       "      <th></th>\n",
       "      <th></th>\n",
       "      <th></th>\n",
       "      <th></th>\n",
       "      <th></th>\n",
       "      <th></th>\n",
       "      <th></th>\n",
       "      <th></th>\n",
       "      <th></th>\n",
       "      <th></th>\n",
       "      <th></th>\n",
       "      <th></th>\n",
       "      <th></th>\n",
       "      <th></th>\n",
       "      <th></th>\n",
       "      <th></th>\n",
       "      <th></th>\n",
       "      <th></th>\n",
       "      <th></th>\n",
       "      <th></th>\n",
       "      <th></th>\n",
       "      <th></th>\n",
       "    </tr>\n",
       "  </thead>\n",
       "  <tbody>\n",
       "    <tr>\n",
       "      <th rowspan=\"5\" valign=\"top\">50</th>\n",
       "      <th rowspan=\"2\" valign=\"top\">90</th>\n",
       "      <th>U</th>\n",
       "      <td>0.100000</td>\n",
       "      <td>0.200000</td>\n",
       "      <td>0.300000</td>\n",
       "      <td>0.400000</td>\n",
       "      <td>0.500000</td>\n",
       "      <td>0.600000</td>\n",
       "      <td>0.700000</td>\n",
       "      <td>0.80000</td>\n",
       "      <td>0.90000</td>\n",
       "      <td>1.00000</td>\n",
       "      <td>...</td>\n",
       "      <td>29.1000</td>\n",
       "      <td>29.2000</td>\n",
       "      <td>29.3000</td>\n",
       "      <td>29.4000</td>\n",
       "      <td>29.5000</td>\n",
       "      <td>29.6000</td>\n",
       "      <td>29.7000</td>\n",
       "      <td>29.8000</td>\n",
       "      <td>29.9000</td>\n",
       "      <td>30.0000</td>\n",
       "    </tr>\n",
       "    <tr>\n",
       "      <th>fE1</th>\n",
       "      <td>0.006291</td>\n",
       "      <td>0.006776</td>\n",
       "      <td>0.007300</td>\n",
       "      <td>0.007862</td>\n",
       "      <td>0.008465</td>\n",
       "      <td>0.009107</td>\n",
       "      <td>0.009790</td>\n",
       "      <td>0.01051</td>\n",
       "      <td>0.01128</td>\n",
       "      <td>0.01209</td>\n",
       "      <td>...</td>\n",
       "      <td>0.9121</td>\n",
       "      <td>0.9004</td>\n",
       "      <td>0.8889</td>\n",
       "      <td>0.8775</td>\n",
       "      <td>0.8662</td>\n",
       "      <td>0.8550</td>\n",
       "      <td>0.8439</td>\n",
       "      <td>0.8329</td>\n",
       "      <td>0.8220</td>\n",
       "      <td>0.8110</td>\n",
       "    </tr>\n",
       "    <tr>\n",
       "      <th rowspan=\"2\" valign=\"top\">91</th>\n",
       "      <th>U</th>\n",
       "      <td>0.100000</td>\n",
       "      <td>0.200000</td>\n",
       "      <td>0.300000</td>\n",
       "      <td>0.400000</td>\n",
       "      <td>0.500000</td>\n",
       "      <td>0.600000</td>\n",
       "      <td>0.700000</td>\n",
       "      <td>0.80000</td>\n",
       "      <td>0.90000</td>\n",
       "      <td>1.00000</td>\n",
       "      <td>...</td>\n",
       "      <td>29.1000</td>\n",
       "      <td>29.2000</td>\n",
       "      <td>29.3000</td>\n",
       "      <td>29.4000</td>\n",
       "      <td>29.5000</td>\n",
       "      <td>29.6000</td>\n",
       "      <td>29.7000</td>\n",
       "      <td>29.8000</td>\n",
       "      <td>29.9000</td>\n",
       "      <td>30.0000</td>\n",
       "    </tr>\n",
       "    <tr>\n",
       "      <th>fE1</th>\n",
       "      <td>0.006350</td>\n",
       "      <td>0.006840</td>\n",
       "      <td>0.007369</td>\n",
       "      <td>0.007937</td>\n",
       "      <td>0.008545</td>\n",
       "      <td>0.009193</td>\n",
       "      <td>0.009882</td>\n",
       "      <td>0.01061</td>\n",
       "      <td>0.01138</td>\n",
       "      <td>0.01220</td>\n",
       "      <td>...</td>\n",
       "      <td>0.9619</td>\n",
       "      <td>0.9492</td>\n",
       "      <td>0.9365</td>\n",
       "      <td>0.9238</td>\n",
       "      <td>0.9111</td>\n",
       "      <td>0.8984</td>\n",
       "      <td>0.8858</td>\n",
       "      <td>0.8731</td>\n",
       "      <td>0.8605</td>\n",
       "      <td>0.8479</td>\n",
       "    </tr>\n",
       "    <tr>\n",
       "      <th>92</th>\n",
       "      <th>U</th>\n",
       "      <td>0.100000</td>\n",
       "      <td>0.200000</td>\n",
       "      <td>0.300000</td>\n",
       "      <td>0.400000</td>\n",
       "      <td>0.500000</td>\n",
       "      <td>0.600000</td>\n",
       "      <td>0.700000</td>\n",
       "      <td>0.80000</td>\n",
       "      <td>0.90000</td>\n",
       "      <td>1.00000</td>\n",
       "      <td>...</td>\n",
       "      <td>29.1000</td>\n",
       "      <td>29.2000</td>\n",
       "      <td>29.3000</td>\n",
       "      <td>29.4000</td>\n",
       "      <td>29.5000</td>\n",
       "      <td>29.6000</td>\n",
       "      <td>29.7000</td>\n",
       "      <td>29.8000</td>\n",
       "      <td>29.9000</td>\n",
       "      <td>30.0000</td>\n",
       "    </tr>\n",
       "  </tbody>\n",
       "</table>\n",
       "<p>5 rows × 300 columns</p>\n",
       "</div>"
      ],
      "text/plain": [
       "                0         1         2         3         4         5    \\\n",
       "Z  A                                                                    \n",
       "50 90 U    0.100000  0.200000  0.300000  0.400000  0.500000  0.600000   \n",
       "      fE1  0.006291  0.006776  0.007300  0.007862  0.008465  0.009107   \n",
       "   91 U    0.100000  0.200000  0.300000  0.400000  0.500000  0.600000   \n",
       "      fE1  0.006350  0.006840  0.007369  0.007937  0.008545  0.009193   \n",
       "   92 U    0.100000  0.200000  0.300000  0.400000  0.500000  0.600000   \n",
       "\n",
       "                6        7        8        9     ...         290      291  \\\n",
       "Z  A                                             ...                        \n",
       "50 90 U    0.700000  0.80000  0.90000  1.00000   ...     29.1000  29.2000   \n",
       "      fE1  0.009790  0.01051  0.01128  0.01209   ...      0.9121   0.9004   \n",
       "   91 U    0.700000  0.80000  0.90000  1.00000   ...     29.1000  29.2000   \n",
       "      fE1  0.009882  0.01061  0.01138  0.01220   ...      0.9619   0.9492   \n",
       "   92 U    0.700000  0.80000  0.90000  1.00000   ...     29.1000  29.2000   \n",
       "\n",
       "               292      293      294      295      296      297      298  \\\n",
       "Z  A                                                                       \n",
       "50 90 U    29.3000  29.4000  29.5000  29.6000  29.7000  29.8000  29.9000   \n",
       "      fE1   0.8889   0.8775   0.8662   0.8550   0.8439   0.8329   0.8220   \n",
       "   91 U    29.3000  29.4000  29.5000  29.6000  29.7000  29.8000  29.9000   \n",
       "      fE1   0.9365   0.9238   0.9111   0.8984   0.8858   0.8731   0.8605   \n",
       "   92 U    29.3000  29.4000  29.5000  29.6000  29.7000  29.8000  29.9000   \n",
       "\n",
       "               299  \n",
       "Z  A                \n",
       "50 90 U    30.0000  \n",
       "      fE1   0.8110  \n",
       "   91 U    30.0000  \n",
       "      fE1   0.8479  \n",
       "   92 U    30.0000  \n",
       "\n",
       "[5 rows x 300 columns]"
      ]
     },
     "execution_count": 28,
     "metadata": {},
     "output_type": "execute_result"
    }
   ],
   "source": [
    "df = dict_to_df(md)\n",
    "df.head()"
   ]
  },
  {
   "cell_type": "code",
   "execution_count": 29,
   "metadata": {},
   "outputs": [],
   "source": [
    "md_tst = {'50': {'100': {'col1': (0.100,\n",
    "                              0.200,\n",
    "                              0.300,\n",
    "                              0.400),\n",
    "                     'col2': (0.1359,\n",
    "                              0.14329,\n",
    "                              0.151455,\n",
    "                              0.160519)},\n",
    "             '101': {'col1': (0.100,\n",
    "                              0.200,\n",
    "                              0.300,\n",
    "                              0.400),\n",
    "                     'col2': (6.510E-03,\n",
    "                              7.011E-03,\n",
    "                              7.553E-03,\n",
    "                              8.134E-03)}\n",
    "            }\n",
    "     }"
   ]
  },
  {
   "cell_type": "code",
   "execution_count": 30,
   "metadata": {},
   "outputs": [
    {
     "data": {
      "text/html": [
       "<div>\n",
       "<style scoped>\n",
       "    .dataframe tbody tr th:only-of-type {\n",
       "        vertical-align: middle;\n",
       "    }\n",
       "\n",
       "    .dataframe tbody tr th {\n",
       "        vertical-align: top;\n",
       "    }\n",
       "\n",
       "    .dataframe thead th {\n",
       "        text-align: right;\n",
       "    }\n",
       "</style>\n",
       "<table border=\"1\" class=\"dataframe\">\n",
       "  <thead>\n",
       "    <tr style=\"text-align: right;\">\n",
       "      <th></th>\n",
       "      <th></th>\n",
       "      <th></th>\n",
       "      <th>0</th>\n",
       "      <th>1</th>\n",
       "      <th>2</th>\n",
       "      <th>3</th>\n",
       "    </tr>\n",
       "    <tr>\n",
       "      <th>Z</th>\n",
       "      <th>A</th>\n",
       "      <th></th>\n",
       "      <th></th>\n",
       "      <th></th>\n",
       "      <th></th>\n",
       "      <th></th>\n",
       "    </tr>\n",
       "  </thead>\n",
       "  <tbody>\n",
       "    <tr>\n",
       "      <th rowspan=\"4\" valign=\"top\">50</th>\n",
       "      <th rowspan=\"2\" valign=\"top\">100</th>\n",
       "      <th>col1</th>\n",
       "      <td>0.10000</td>\n",
       "      <td>0.200000</td>\n",
       "      <td>0.300000</td>\n",
       "      <td>0.400000</td>\n",
       "    </tr>\n",
       "    <tr>\n",
       "      <th>col2</th>\n",
       "      <td>0.13590</td>\n",
       "      <td>0.143290</td>\n",
       "      <td>0.151455</td>\n",
       "      <td>0.160519</td>\n",
       "    </tr>\n",
       "    <tr>\n",
       "      <th rowspan=\"2\" valign=\"top\">101</th>\n",
       "      <th>col1</th>\n",
       "      <td>0.10000</td>\n",
       "      <td>0.200000</td>\n",
       "      <td>0.300000</td>\n",
       "      <td>0.400000</td>\n",
       "    </tr>\n",
       "    <tr>\n",
       "      <th>col2</th>\n",
       "      <td>0.00651</td>\n",
       "      <td>0.007011</td>\n",
       "      <td>0.007553</td>\n",
       "      <td>0.008134</td>\n",
       "    </tr>\n",
       "  </tbody>\n",
       "</table>\n",
       "</div>"
      ],
      "text/plain": [
       "                   0         1         2         3\n",
       "Z  A                                              \n",
       "50 100 col1  0.10000  0.200000  0.300000  0.400000\n",
       "       col2  0.13590  0.143290  0.151455  0.160519\n",
       "   101 col1  0.10000  0.200000  0.300000  0.400000\n",
       "       col2  0.00651  0.007011  0.007553  0.008134"
      ]
     },
     "execution_count": 30,
     "metadata": {},
     "output_type": "execute_result"
    }
   ],
   "source": [
    "df_tst = dict_to_df(md_tst)\n",
    "df_tst"
   ]
  },
  {
   "cell_type": "code",
   "execution_count": 31,
   "metadata": {},
   "outputs": [
    {
     "name": "stdout",
     "output_type": "stream",
     "text": [
      "{('50', '100', 'col1'): [0.1, 0.2, 0.3, 0.4],\n",
      " ('50', '100', 'col2'): [0.1359, 0.14329, 0.151455, 0.160519],\n",
      " ('50', '101', 'col1'): [0.1, 0.2, 0.3, 0.4],\n",
      " ('50', '101', 'col2'): [0.00651, 0.007011, 0.007553, 0.008134]}\n",
      "MultiIndex(levels=[['50'], ['100', '101'], ['col1', 'col2']],\n",
      "           labels=[[0, 0, 0, 0], [0, 0, 1, 1], [0, 1, 0, 1]],\n",
      "           names=['Z', 'A', None])\n"
     ]
    }
   ],
   "source": [
    "df_tst = df_tst.T\n",
    "pprint.pprint(df_tst.to_dict('list')) # dict is OK\n",
    "df_tst = df_tst.T\n",
    "print(df_tst.index) # index is OK"
   ]
  },
  {
   "cell_type": "code",
   "execution_count": 32,
   "metadata": {},
   "outputs": [
    {
     "data": {
      "text/html": [
       "<div>\n",
       "<style scoped>\n",
       "    .dataframe tbody tr th:only-of-type {\n",
       "        vertical-align: middle;\n",
       "    }\n",
       "\n",
       "    .dataframe tbody tr th {\n",
       "        vertical-align: top;\n",
       "    }\n",
       "\n",
       "    .dataframe thead th {\n",
       "        text-align: right;\n",
       "    }\n",
       "</style>\n",
       "<table border=\"1\" class=\"dataframe\">\n",
       "  <thead>\n",
       "    <tr style=\"text-align: right;\">\n",
       "      <th></th>\n",
       "      <th></th>\n",
       "      <th></th>\n",
       "      <th>0</th>\n",
       "      <th>1</th>\n",
       "      <th>2</th>\n",
       "      <th>3</th>\n",
       "    </tr>\n",
       "    <tr>\n",
       "      <th>Z</th>\n",
       "      <th>A</th>\n",
       "      <th></th>\n",
       "      <th></th>\n",
       "      <th></th>\n",
       "      <th></th>\n",
       "      <th></th>\n",
       "    </tr>\n",
       "  </thead>\n",
       "  <tbody>\n",
       "    <tr>\n",
       "      <th rowspan=\"2\" valign=\"top\">50</th>\n",
       "      <th rowspan=\"2\" valign=\"top\">100</th>\n",
       "      <th>col1</th>\n",
       "      <td>0.1000</td>\n",
       "      <td>0.20000</td>\n",
       "      <td>0.300000</td>\n",
       "      <td>0.400000</td>\n",
       "    </tr>\n",
       "    <tr>\n",
       "      <th>col2</th>\n",
       "      <td>0.1359</td>\n",
       "      <td>0.14329</td>\n",
       "      <td>0.151455</td>\n",
       "      <td>0.160519</td>\n",
       "    </tr>\n",
       "  </tbody>\n",
       "</table>\n",
       "</div>"
      ],
      "text/plain": [
       "                  0        1         2         3\n",
       "Z  A                                            \n",
       "50 100 col1  0.1000  0.20000  0.300000  0.400000\n",
       "       col2  0.1359  0.14329  0.151455  0.160519"
      ]
     },
     "execution_count": 32,
     "metadata": {},
     "output_type": "execute_result"
    }
   ],
   "source": [
    "table = df_tst.loc[('50', '100', ['col1', 'col2']), :]\n",
    "table"
   ]
  },
  {
   "cell_type": "code",
   "execution_count": 33,
   "metadata": {},
   "outputs": [
    {
     "data": {
      "text/html": [
       "<div>\n",
       "<style scoped>\n",
       "    .dataframe tbody tr th:only-of-type {\n",
       "        vertical-align: middle;\n",
       "    }\n",
       "\n",
       "    .dataframe tbody tr th {\n",
       "        vertical-align: top;\n",
       "    }\n",
       "\n",
       "    .dataframe thead tr th {\n",
       "        text-align: left;\n",
       "    }\n",
       "</style>\n",
       "<table border=\"1\" class=\"dataframe\">\n",
       "  <thead>\n",
       "    <tr>\n",
       "      <th>Z</th>\n",
       "      <th colspan=\"2\" halign=\"left\">50</th>\n",
       "    </tr>\n",
       "    <tr>\n",
       "      <th>A</th>\n",
       "      <th colspan=\"2\" halign=\"left\">100</th>\n",
       "    </tr>\n",
       "    <tr>\n",
       "      <th></th>\n",
       "      <th>col1</th>\n",
       "      <th>col2</th>\n",
       "    </tr>\n",
       "  </thead>\n",
       "  <tbody>\n",
       "    <tr>\n",
       "      <th>0</th>\n",
       "      <td>0.1</td>\n",
       "      <td>0.135900</td>\n",
       "    </tr>\n",
       "    <tr>\n",
       "      <th>1</th>\n",
       "      <td>0.2</td>\n",
       "      <td>0.143290</td>\n",
       "    </tr>\n",
       "    <tr>\n",
       "      <th>2</th>\n",
       "      <td>0.3</td>\n",
       "      <td>0.151455</td>\n",
       "    </tr>\n",
       "    <tr>\n",
       "      <th>3</th>\n",
       "      <td>0.4</td>\n",
       "      <td>0.160519</td>\n",
       "    </tr>\n",
       "  </tbody>\n",
       "</table>\n",
       "</div>"
      ],
      "text/plain": [
       "Z   50          \n",
       "A  100          \n",
       "  col1      col2\n",
       "0  0.1  0.135900\n",
       "1  0.2  0.143290\n",
       "2  0.3  0.151455\n",
       "3  0.4  0.160519"
      ]
     },
     "execution_count": 33,
     "metadata": {},
     "output_type": "execute_result"
    }
   ],
   "source": [
    "table.T"
   ]
  },
  {
   "cell_type": "code",
   "execution_count": null,
   "metadata": {},
   "outputs": [],
   "source": []
  },
  {
   "cell_type": "code",
   "execution_count": null,
   "metadata": {},
   "outputs": [],
   "source": []
  },
  {
   "cell_type": "code",
   "execution_count": 34,
   "metadata": {},
   "outputs": [
    {
     "data": {
      "text/html": [
       "<div>\n",
       "<style scoped>\n",
       "    .dataframe tbody tr th:only-of-type {\n",
       "        vertical-align: middle;\n",
       "    }\n",
       "\n",
       "    .dataframe tbody tr th {\n",
       "        vertical-align: top;\n",
       "    }\n",
       "\n",
       "    .dataframe thead th {\n",
       "        text-align: right;\n",
       "    }\n",
       "</style>\n",
       "<table border=\"1\" class=\"dataframe\">\n",
       "  <thead>\n",
       "    <tr style=\"text-align: right;\">\n",
       "      <th></th>\n",
       "      <th></th>\n",
       "      <th>Close</th>\n",
       "      <th>Volume</th>\n",
       "    </tr>\n",
       "    <tr>\n",
       "      <th>Symbol</th>\n",
       "      <th>Date</th>\n",
       "      <th></th>\n",
       "      <th></th>\n",
       "    </tr>\n",
       "  </thead>\n",
       "  <tbody>\n",
       "    <tr>\n",
       "      <th rowspan=\"3\" valign=\"top\">AAPL</th>\n",
       "      <th>2016-10-03</th>\n",
       "      <td>112.52</td>\n",
       "      <td>21701800</td>\n",
       "    </tr>\n",
       "    <tr>\n",
       "      <th>2016-10-04</th>\n",
       "      <td>113.00</td>\n",
       "      <td>29736800</td>\n",
       "    </tr>\n",
       "    <tr>\n",
       "      <th>2016-10-05</th>\n",
       "      <td>113.05</td>\n",
       "      <td>21453100</td>\n",
       "    </tr>\n",
       "    <tr>\n",
       "      <th rowspan=\"3\" valign=\"top\">CSCO</th>\n",
       "      <th>2016-10-03</th>\n",
       "      <td>31.50</td>\n",
       "      <td>14070500</td>\n",
       "    </tr>\n",
       "    <tr>\n",
       "      <th>2016-10-04</th>\n",
       "      <td>31.35</td>\n",
       "      <td>18460400</td>\n",
       "    </tr>\n",
       "    <tr>\n",
       "      <th>2016-10-05</th>\n",
       "      <td>31.59</td>\n",
       "      <td>11808600</td>\n",
       "    </tr>\n",
       "    <tr>\n",
       "      <th rowspan=\"3\" valign=\"top\">MSFT</th>\n",
       "      <th>2016-10-03</th>\n",
       "      <td>57.42</td>\n",
       "      <td>19189500</td>\n",
       "    </tr>\n",
       "    <tr>\n",
       "      <th>2016-10-04</th>\n",
       "      <td>57.24</td>\n",
       "      <td>20085900</td>\n",
       "    </tr>\n",
       "    <tr>\n",
       "      <th>2016-10-05</th>\n",
       "      <td>57.64</td>\n",
       "      <td>16726400</td>\n",
       "    </tr>\n",
       "  </tbody>\n",
       "</table>\n",
       "</div>"
      ],
      "text/plain": [
       "                    Close    Volume\n",
       "Symbol Date                        \n",
       "AAPL   2016-10-03  112.52  21701800\n",
       "       2016-10-04  113.00  29736800\n",
       "       2016-10-05  113.05  21453100\n",
       "CSCO   2016-10-03   31.50  14070500\n",
       "       2016-10-04   31.35  18460400\n",
       "       2016-10-05   31.59  11808600\n",
       "MSFT   2016-10-03   57.42  19189500\n",
       "       2016-10-04   57.24  20085900\n",
       "       2016-10-05   57.64  16726400"
      ]
     },
     "execution_count": 34,
     "metadata": {},
     "output_type": "execute_result"
    }
   ],
   "source": [
    "stocks"
   ]
  },
  {
   "cell_type": "code",
   "execution_count": 35,
   "metadata": {},
   "outputs": [
    {
     "data": {
      "text/html": [
       "<div>\n",
       "<style scoped>\n",
       "    .dataframe tbody tr th:only-of-type {\n",
       "        vertical-align: middle;\n",
       "    }\n",
       "\n",
       "    .dataframe tbody tr th {\n",
       "        vertical-align: top;\n",
       "    }\n",
       "\n",
       "    .dataframe thead th {\n",
       "        text-align: right;\n",
       "    }\n",
       "</style>\n",
       "<table border=\"1\" class=\"dataframe\">\n",
       "  <thead>\n",
       "    <tr style=\"text-align: right;\">\n",
       "      <th></th>\n",
       "      <th></th>\n",
       "      <th>Close</th>\n",
       "      <th>Volume</th>\n",
       "    </tr>\n",
       "    <tr>\n",
       "      <th>Symbol</th>\n",
       "      <th>Date</th>\n",
       "      <th></th>\n",
       "      <th></th>\n",
       "    </tr>\n",
       "  </thead>\n",
       "  <tbody>\n",
       "    <tr>\n",
       "      <th rowspan=\"2\" valign=\"top\">AAPL</th>\n",
       "      <th>2016-10-03</th>\n",
       "      <td>112.52</td>\n",
       "      <td>21701800</td>\n",
       "    </tr>\n",
       "    <tr>\n",
       "      <th>2016-10-04</th>\n",
       "      <td>113.00</td>\n",
       "      <td>29736800</td>\n",
       "    </tr>\n",
       "    <tr>\n",
       "      <th rowspan=\"2\" valign=\"top\">CSCO</th>\n",
       "      <th>2016-10-03</th>\n",
       "      <td>31.50</td>\n",
       "      <td>14070500</td>\n",
       "    </tr>\n",
       "    <tr>\n",
       "      <th>2016-10-04</th>\n",
       "      <td>31.35</td>\n",
       "      <td>18460400</td>\n",
       "    </tr>\n",
       "    <tr>\n",
       "      <th rowspan=\"2\" valign=\"top\">MSFT</th>\n",
       "      <th>2016-10-03</th>\n",
       "      <td>57.42</td>\n",
       "      <td>19189500</td>\n",
       "    </tr>\n",
       "    <tr>\n",
       "      <th>2016-10-04</th>\n",
       "      <td>57.24</td>\n",
       "      <td>20085900</td>\n",
       "    </tr>\n",
       "  </tbody>\n",
       "</table>\n",
       "</div>"
      ],
      "text/plain": [
       "                    Close    Volume\n",
       "Symbol Date                        \n",
       "AAPL   2016-10-03  112.52  21701800\n",
       "       2016-10-04  113.00  29736800\n",
       "CSCO   2016-10-03   31.50  14070500\n",
       "       2016-10-04   31.35  18460400\n",
       "MSFT   2016-10-03   57.42  19189500\n",
       "       2016-10-04   57.24  20085900"
      ]
     },
     "execution_count": 35,
     "metadata": {},
     "output_type": "execute_result"
    }
   ],
   "source": [
    "stocks.loc[('AAPL', '2016-10-03'), :] # rows, columns\n",
    "stocks.loc[('AAPL', '2016-10-03'), 'Close']\n",
    "stocks.loc[(['AAPL', 'MSFT'], '2016-10-03'), :]\n",
    "stocks.loc[(['AAPL', 'MSFT'], '2016-10-03'), 'Close']\n",
    "stocks.loc[('AAPL', ['2016-10-03', '2016-10-04']), 'Close']\n",
    "stocks.loc[(slice(None), ['2016-10-03', '2016-10-04']), :]"
   ]
  },
  {
   "cell_type": "code",
   "execution_count": null,
   "metadata": {},
   "outputs": [],
   "source": []
  },
  {
   "cell_type": "code",
   "execution_count": null,
   "metadata": {},
   "outputs": [],
   "source": []
  }
 ],
 "metadata": {
  "jupytext": {
   "text_representation": {
    "extension": ".py",
    "format_name": "percent",
    "format_version": "1.2",
    "jupytext_version": "0.8.6"
   }
  },
  "kernelspec": {
   "display_name": "Python 3",
   "language": "python",
   "name": "python3"
  },
  "language_info": {
   "codemirror_mode": {
    "name": "ipython",
    "version": 3
   },
   "file_extension": ".py",
   "mimetype": "text/x-python",
   "name": "python",
   "nbconvert_exporter": "python",
   "pygments_lexer": "ipython3",
   "version": "3.6.5"
  }
 },
 "nbformat": 4,
 "nbformat_minor": 2
}
