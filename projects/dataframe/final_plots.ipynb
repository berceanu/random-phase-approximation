{
 "cells": [
  {
   "cell_type": "code",
   "execution_count": 1,
   "metadata": {
    "pycharm": {
     "is_executing": false
    }
   },
   "outputs": [],
   "source": [
    "# from wand.image import Image as WImage\n",
    "import pathlib\n",
    "from IPython.display import Image\n",
    "import pkg_resources"
   ]
  },
  {
   "cell_type": "code",
   "execution_count": 2,
   "metadata": {
    "pycharm": {
     "is_executing": false
    }
   },
   "outputs": [],
   "source": [
    "import numpy as np\n",
    "import pandas as pd"
   ]
  },
  {
   "cell_type": "code",
   "execution_count": 3,
   "metadata": {
    "pycharm": {
     "is_executing": false
    }
   },
   "outputs": [],
   "source": [
    "from matplotlib import pyplot, ticker, colors\n",
    "# from mpl_toolkits.axes_grid1 import make_axes_locatable\n",
    "import matplotlib as mpl"
   ]
  },
  {
   "cell_type": "code",
   "execution_count": 4,
   "metadata": {
    "pycharm": {
     "is_executing": false
    }
   },
   "outputs": [],
   "source": [
    "from dataframe import mpl_turbo_data\n",
    "pyplot.register_cmap(name=\"turbo\", data=mpl_turbo_data, lut=256)"
   ]
  },
  {
   "cell_type": "code",
   "execution_count": 5,
   "metadata": {
    "pycharm": {
     "is_executing": false
    }
   },
   "outputs": [
    {
     "data": {
      "text/plain": "'pdf'"
     },
     "metadata": {},
     "output_type": "execute_result",
     "execution_count": 5
    }
   ],
   "source": [
    "mpl.use('pdf')\n",
    "\n",
    "# mpl.use('agg')\n",
    "mpl.get_backend()"
   ]
  },
  {
   "cell_type": "code",
   "execution_count": 6,
   "metadata": {
    "pycharm": {
     "is_executing": false
    }
   },
   "outputs": [],
   "source": [
    "# Load style file\n",
    "pyplot.style.use('PaperDoubleFig.mplstyle')"
   ]
  },
  {
   "cell_type": "code",
   "execution_count": 7,
   "metadata": {
    "pycharm": {
     "is_executing": false
    }
   },
   "outputs": [],
   "source": [
    "pyplot.rcParams.update({\n",
    "    \"pgf.texsystem\": \"pdflatex\",\n",
    "    \"pgf.preamble\": [\n",
    "         r\"\\usepackage[utf8x]{inputenc}\",\n",
    "         r\"\\usepackage[T1]{fontenc}\",\n",
    "         r\"\\usepackage{cmbright}\",\n",
    "         ]\n",
    "})"
   ]
  },
  {
   "cell_type": "code",
   "execution_count": 8,
   "metadata": {
    "pycharm": {
     "is_executing": false
    }
   },
   "outputs": [],
   "source": [
    "# Make some style choices for plotting\n",
    "colourWheel =['#329932',\n",
    "            '#ff6961',\n",
    "            'b',\n",
    "            '#6a3d9a',\n",
    "            '#fb9a99',\n",
    "            '#e31a1c',\n",
    "            '#fdbf6f',\n",
    "            '#ff7f00',\n",
    "            '#cab2d6',\n",
    "            '#6a3d9a',\n",
    "            '#b15928',\n",
    "            '#67001f',\n",
    "            '#b2182b',\n",
    "            '#d6604d',\n",
    "            '#f4a582',\n",
    "            '#fddbc7',\n",
    "            '#f7f7f7',\n",
    "            '#d1e5f0',\n",
    "            '#92c5de',\n",
    "            '#4393c3',\n",
    "            '#2166ac',\n",
    "            '#053061']\n",
    "\n",
    "dashesStyles = [[3,1],\n",
    "            [1000,1],\n",
    "            [2,1,10,1],\n",
    "            [4, 1, 1, 1, 1, 1]]"
   ]
  },
  {
   "cell_type": "code",
   "execution_count": 9,
   "metadata": {
    "pycharm": {
     "is_executing": false
    }
   },
   "outputs": [],
   "source": [
    "aps_column_width = 3.404 # inches\n",
    "golden_ratio = 1.618\n",
    "\n",
    "width = aps_column_width\n",
    "height = aps_column_width / golden_ratio\n",
    "\n",
    "screen_dpi = 123 # pixels / inch"
   ]
  },
  {
   "cell_type": "code",
   "execution_count": 10,
   "outputs": [],
   "source": [
    "df_path = pathlib.Path(pkg_resources.resource_filename(\"dataframe\", \"dataframe.pkl\"))"
   ],
   "metadata": {
    "collapsed": false,
    "pycharm": {
     "name": "#%%\n",
     "is_executing": false
    }
   }
  },
  {
   "cell_type": "code",
   "execution_count": 11,
   "metadata": {
    "pycharm": {
     "is_executing": false
    }
   },
   "outputs": [],
   "source": [
    "df = pd.read_pickle(df_path)"
   ]
  },
  {
   "cell_type": "code",
   "execution_count": 12,
   "metadata": {
    "pycharm": {
     "is_executing": false
    }
   },
   "outputs": [],
   "source": [
    "lower = df['energy'] >= 0.1\n",
    "upper = df['energy'] <= 30\n",
    "both = lower & upper\n",
    "df2 = df[both]"
   ]
  },
  {
   "cell_type": "code",
   "execution_count": 13,
   "metadata": {
    "pycharm": {
     "is_executing": false
    }
   },
   "outputs": [],
   "source": [
    "df3 = df2.sort_values(by=['neutron_number', 'energy'], ascending=[True, True])"
   ]
  },
  {
   "cell_type": "code",
   "execution_count": 14,
   "metadata": {
    "pycharm": {
     "is_executing": false
    }
   },
   "outputs": [],
   "source": [
    "df4 = df3[df3['temperature'] == 2.0]"
   ]
  },
  {
   "cell_type": "code",
   "execution_count": 15,
   "metadata": {
    "pycharm": {
     "is_executing": false
    }
   },
   "outputs": [],
   "source": [
    "pyplot.close('all')\n",
    "fig, ax = pyplot.subplots()\n",
    "fig.subplots_adjust(left=.09, bottom=.14, right=.97, top=.97)\n",
    "dy = 0\n",
    "for j, neutron_number in enumerate(df4.neutron_number.unique()):\n",
    "    isotope = df4.neutron_number == neutron_number\n",
    "    mydf = df4[isotope]\n",
    "    ax.plot(mydf.energy, mydf.strength_function + j * dy,\n",
    "            color=colourWheel[j%len(colourWheel)],\n",
    "            linestyle = '-',\n",
    "            dashes=dashesStyles[j%len(dashesStyles)],\n",
    "            label=neutron_number\n",
    ")\n",
    "\n",
    "ax.set_ylabel(r\"$R$ [e${}^{2}$fm${}^{2}$/MeV]\", labelpad=-2)\n",
    "ax.set_xlabel(r\"$E$ [MeV]\", labelpad=--0.5)\n",
    "ax.set_xlim(0.1, 30)\n",
    "ax.set_ylim(0, 10)\n",
    "\n",
    "ax.yaxis.set_major_formatter(ticker.ScalarFormatter())\n",
    "ax.yaxis.major.formatter._useMathText = True\n",
    "ax.yaxis.set_minor_locator(ticker.AutoMinorLocator(5))\n",
    "ax.xaxis.set_minor_locator(ticker.AutoMinorLocator(5))\n",
    "# ax.yaxis.set_label_coords(0.63,1.01)\n",
    "ax.legend(loc='upper left', ncol=2, handlelength=1)\n",
    "ax.annotate(s=r\"$T = 0$\", xy=(0.7,0.8), xycoords=\"axes fraction\")\n",
    "\n",
    "fig.set_size_inches(width, height)\n",
    "fig.savefig('plot.pdf')  # facecolor='C7'\n",
    "\n",
    "# Image(filename='plot.png') \n",
    "# img = WImage(filename='plot.pdf', resolution=screen_dpi)\n",
    "# img"
   ]
  },
  {
   "cell_type": "code",
   "execution_count": 16,
   "metadata": {
    "pycharm": {
     "is_executing": false
    }
   },
   "outputs": [
    {
     "name": "stdout",
     "text": [
      "Number of energy grid points: 2991\n"
     ],
     "output_type": "stream"
    }
   ],
   "source": [
    "df5 = df4[df4.neutron_number == 76]\n",
    "nenergy = df5.energy.size\n",
    "print(f\"Number of energy grid points: {nenergy}\")"
   ]
  },
  {
   "cell_type": "code",
   "execution_count": 17,
   "metadata": {
    "pycharm": {
     "is_executing": false
    }
   },
   "outputs": [],
   "source": [
    "x = np.empty(nenergy)\n",
    "x = df5.energy"
   ]
  },
  {
   "cell_type": "code",
   "execution_count": 18,
   "metadata": {
    "pycharm": {
     "is_executing": false
    }
   },
   "outputs": [
    {
     "name": "stdout",
     "text": [
      "All temperatures: [0.  0.5 1.  2. ]\n"
     ],
     "output_type": "stream"
    }
   ],
   "source": [
    "all_temperatures = np.sort(df3.temperature.unique())\n",
    "print(f\"All temperatures: {all_temperatures}\")"
   ]
  },
  {
   "cell_type": "code",
   "execution_count": 19,
   "metadata": {
    "pycharm": {
     "is_executing": false
    }
   },
   "outputs": [],
   "source": [
    "def all_strength_functions_for_temperature(temperature, df, nenergy):\n",
    "  \n",
    "    all_neutron_numbers = df.neutron_number.unique()\n",
    "    nisotopes = len(all_neutron_numbers)\n",
    "    \n",
    "    df2 = df[df['temperature'] == temperature]\n",
    "    \n",
    "    y = np.empty((nisotopes, nenergy))\n",
    "    \n",
    "    for j, neutron_number in enumerate(all_neutron_numbers):\n",
    "        isotope = (df2.neutron_number == neutron_number)\n",
    "        isodf = df2[isotope]\n",
    "        y[j,:] = isodf.strength_function\n",
    "    return y, all_neutron_numbers"
   ]
  },
  {
   "cell_type": "code",
   "execution_count": 20,
   "metadata": {
    "pycharm": {
     "is_executing": false
    }
   },
   "outputs": [],
   "source": [
    "y, neutron_numbers = all_strength_functions_for_temperature(0.0, df3, nenergy)"
   ]
  },
  {
   "cell_type": "code",
   "execution_count": 21,
   "metadata": {
    "pycharm": {
     "is_executing": false
    }
   },
   "outputs": [
    {
     "data": {
      "text/plain": "array([76, 78, 80, 82, 84, 86, 88, 90, 92, 94, 96])"
     },
     "metadata": {},
     "output_type": "execute_result",
     "execution_count": 21
    }
   ],
   "source": [
    "neutron_numbers"
   ]
  },
  {
   "cell_type": "code",
   "execution_count": 22,
   "metadata": {
    "pycharm": {
     "is_executing": false
    }
   },
   "outputs": [
    {
     "data": {
      "text/plain": "array([75, 77, 79, 81, 83, 85, 87, 89, 91, 93, 95, 97])"
     },
     "metadata": {},
     "output_type": "execute_result",
     "execution_count": 22
    }
   ],
   "source": [
    "nn = np.append(neutron_numbers - 1, neutron_numbers[-1] + 1)\n",
    "nn"
   ]
  },
  {
   "cell_type": "code",
   "execution_count": null,
   "metadata": {
    "pycharm": {
     "is_executing": true
    }
   },
   "outputs": [],
   "source": [
    "pyplot.close('all')\n",
    "fig, axarr = pyplot.subplots(4, 1, constrained_layout=True)\n",
    "axes = {str(temp): ax for temp, ax in zip(np.flip(all_temperatures), axarr.flat)}\n",
    "\n",
    "for temp in all_temperatures:\n",
    "    ax = axes[str(temp)]\n",
    "    \n",
    "    y, neutron_numbers = all_strength_functions_for_temperature(temp, df3, nenergy)\n",
    "    nn = np.append(neutron_numbers - 1, neutron_numbers[-1] + 1)\n",
    "    \n",
    "    mappable = ax.pcolormesh(x, nn, y, norm=colors.LogNorm(), vmin=0.05, vmax=4.5, cmap=\"turbo\")  # norm=colors.LogNorm(vmin=0.2, vmax=5.0)\n",
    "    ax.annotate(s=f\"$T = {temp}$\", xy=(0.75,0.68), xycoords=\"axes fraction\", color=\"b\", fontsize=10)\n",
    "    for N in neutron_numbers:\n",
    "        ax.annotate(s=str(N), xy=(29,N-0.9), xycoords=\"data\", color=\"w\", fontsize=7)\n",
    "\n",
    "    for N in neutron_numbers[:-1]:\n",
    "        ax.axhline(N+1, color=\"w\", lw=0.5)\n",
    "        \n",
    "  \n",
    "cb = fig.colorbar(mappable, ax=axarr.flat, location=\"top\", shrink=1.0, aspect=30)\n",
    "cb.outline.set_visible(False)\n",
    "cb.set_label(r\"$R$ [e${}^{2}$fm${}^{2}$/MeV]\")\n",
    "cb.ax.xaxis.set_minor_locator(ticker.NullLocator())\n",
    "cb.ax.xaxis.set_minor_formatter(ticker.NullFormatter())\n",
    "cb.ax.xaxis.set_major_locator(ticker.FixedLocator(np.around(np.logspace(-1.30103, 0.60206, 10), decimals=1)))\n",
    "cb.ax.xaxis.set_major_formatter(ticker.ScalarFormatter())\n",
    "\n",
    "for ax in axarr[:-1].flat:\n",
    "    ax.set_xticklabels([])\n",
    "\n",
    "for ax in axarr.flat:\n",
    "    ax.set_xlim(0.1, 30)\n",
    "    ax.yaxis.set_minor_locator(ticker.NullLocator())\n",
    "    ax.yaxis.set_minor_formatter(ticker.NullFormatter())\n",
    "    \n",
    "    ax.yaxis.set_major_locator(ticker.NullLocator())\n",
    "    ax.yaxis.set_major_formatter(ticker.NullFormatter())\n",
    "    \n",
    "    ax.xaxis.set_major_locator(ticker.FixedLocator([5, 10, 15, 20, 25]))\n",
    "\n",
    "    ax.spines['right'].set_visible(False)\n",
    "    ax.spines['left'].set_visible(False)\n",
    "    ax.spines['top'].set_visible(False)\n",
    "    ax.spines['bottom'].set_visible(False)\n",
    "    \n",
    "#     ax.xaxis.tick_bottom()\n",
    "    \n",
    "axes['0.0'].set_xlabel(r\"$E$ [MeV]\", labelpad=-0.5)\n",
    "\n",
    "fig.set_figwidth(width)  # width\n",
    "fig.set_figheight(width * golden_ratio) ##\n",
    "fig.savefig('colormesh.pdf')  # facecolor='C7'\n",
    "\n",
    "# Image(filename='colormesh.png') \n",
    "# img = WImage(filename='colormesh.pdf', resolution=screen_dpi)\n",
    "# img"
   ]
  },
  {
   "cell_type": "code",
   "execution_count": null,
   "metadata": {
    "pycharm": {
     "is_executing": true
    }
   },
   "outputs": [],
   "source": [
    "# https://jakevdp.github.io/PythonDataScienceHandbook/04.10-customizing-ticks.html"
   ]
  },
  {
   "cell_type": "code",
   "execution_count": null,
   "metadata": {
    "pycharm": {
     "is_executing": true
    }
   },
   "outputs": [],
   "source": []
  }
 ],
 "metadata": {
  "kernelspec": {
   "display_name": "Python 3",
   "language": "python",
   "name": "python3"
  },
  "language_info": {
   "codemirror_mode": {
    "name": "ipython",
    "version": 3
   },
   "file_extension": ".py",
   "mimetype": "text/x-python",
   "name": "python",
   "nbconvert_exporter": "python",
   "pygments_lexer": "ipython3",
   "version": "3.7.3"
  },
  "pycharm": {
   "stem_cell": {
    "cell_type": "raw",
    "source": [],
    "metadata": {
     "collapsed": false
    }
   }
  }
 },
 "nbformat": 4,
 "nbformat_minor": 4
}